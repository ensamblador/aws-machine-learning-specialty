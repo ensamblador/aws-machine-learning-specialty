{
 "cells": [
  {
   "cell_type": "markdown",
   "source": [
    "#  Algoritmos Administrados por AWS y Características\n",
    "[XGBoost HP](#xgb-hp)\n"
   ],
   "metadata": {}
  },
  {
   "cell_type": "markdown",
   "source": [
    "\n",
    "|Nombre Algoritmo|Para qué|Distributed Training| Incremental Training |Hyper Parameters\n",
    "| - | - | :-: | :-: | - |\n",
    "|[Linear Learner](https://docs.aws.amazon.com/sagemaker/latest/dg/linear-learner.html)| Classification<br/>Regression | 🟢 |||\n",
    "|[XGBoost](https://docs.aws.amazon.com/sagemaker/latest/dg/xgboost.html)| Classification<br/>Regression | 🟢 || [XGBoost HP](#xgb-hp)\n",
    "|[K-Nearest Neighbors](https://docs.aws.amazon.com/sagemaker/latest/dg/k-nearest-neighbors.html)| Classification<br/>Regression<br/>Clustering |||| \n",
    "|[Factorization Machines](https://docs.aws.amazon.com/sagemaker/latest/dg/fact-machines.html)| Classification<br/>Regression<br/>Recomendation (+KNN)  |🟢(recomendation) |||\n",
    "|[Blazing Text](https://docs.aws.amazon.com/sagemaker/latest/dg/blazingtext.html)| Word2Vect<br/>Text Classification |🟢 (no supervisado) | ||\n",
    "|[Latent Dirichlet Allocation](https://docs.aws.amazon.com/sagemaker/latest/dg/lda.html)| Topics modeling (no supervisado<br> **no** se especifican la cantidad de topicos) | | ||\n",
    "|[Neural Topic Model](https://docs.aws.amazon.com/sagemaker/latest/dg/ntm.html)| Topics modeling (no supervisado, <br>se especifican la cantidad de topicos) | | ||\n",
    "|[Seq2Seq](https://docs.aws.amazon.com/sagemaker/latest/dg/seq-2-seq.html)| Sequence Translation |🟢| \n",
    "|[Image Classification](https://docs.aws.amazon.com/sagemaker/latest/dg/image-classification.html)| Image multi label classification || 🟠||\n",
    "|[Object Detection](https://docs.aws.amazon.com/sagemaker/latest/dg/object-detection.html)| Detección de Objetos (bounding box) || 🟠||\n",
    "|[Semantic Segmentation](https://docs.aws.amazon.com/sagemaker/latest/dg/semantic-segmentation.html)| Detecctión de Objetos (pixel level) ||||\n",
    "|[Random Cut Forests](https://docs.aws.amazon.com/sagemaker/latest/dg/randomcutforest.html)| Anomaly Detection |🟢|||\n",
    "|[IP Insights](https://docs.aws.amazon.com/sagemaker/latest/dg/ip-insights.html)| Anomaly Detection (for IPv4) |🟢|||\n",
    "|[DeepAR](https://docs.aws.amazon.com/sagemaker/latest/dg/deepar.html)| Forecast |🟢|||\n",
    "|[K-Means](https://docs.aws.amazon.com/sagemaker/latest/dg/k-means.html)| Clustering |🟢||| \n",
    "|[Principal Component Analysis](https://docs.aws.amazon.com/sagemaker/latest/dg/pca.html)| Dimensionality Reduction || \n",
    "|[Object2Vect](https://docs.aws.amazon.com/sagemaker/latest/dg/object2vec.html)| Dimensionality Reduction || \n"
   ],
   "metadata": {}
  },
  {
   "cell_type": "markdown",
   "source": [
    "<a id='xgb-hp'></a>"
   ],
   "metadata": {}
  },
  {
   "cell_type": "markdown",
   "source": [
    "## Hiper Parámetros\n",
    "## XGBoostHPz\n",
    "\n",
    "| Nombre | Que significa | Que hace | Tuneable\n",
    "| :- | :- | :- | :-:"
   ],
   "metadata": {}
  },
  {
   "cell_type": "code",
   "execution_count": null,
   "source": [],
   "outputs": [],
   "metadata": {}
  }
 ],
 "metadata": {
  "kernelspec": {
   "name": "python3",
   "display_name": "Python 3.8.6 64-bit ('3.8.6': pyenv)"
  },
  "language_info": {
   "codemirror_mode": {
    "name": "ipython",
    "version": 3
   },
   "file_extension": ".py",
   "mimetype": "text/x-python",
   "name": "python",
   "nbconvert_exporter": "python",
   "pygments_lexer": "ipython3",
   "version": "3.8.6"
  },
  "interpreter": {
   "hash": "bd79022972ec85884f8c7282d79e951f39671388dc60a8721cf30436bd2e415b"
  }
 },
 "nbformat": 4,
 "nbformat_minor": 4
}