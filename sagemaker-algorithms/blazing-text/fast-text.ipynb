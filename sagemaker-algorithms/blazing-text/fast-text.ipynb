{
 "cells": [
  {
   "cell_type": "code",
   "execution_count": 10,
   "metadata": {},
   "outputs": [],
   "source": [
    "import sagemaker\n",
    "from sagemaker import get_execution_role\n",
    "import boto3\n",
    "import json\n",
    "\n",
    "my_session = sagemaker.Session()\n",
    "\n",
    "role = get_execution_role()\n",
    "\n",
    "s3 = boto3.resource('s3')\n",
    "sagemaker_session = sagemaker.Session()\n",
    "s3_bucket = sagemaker_session.default_bucket()\n",
    "s3_prefix = 'aws-machine-learning-specialty/algorithms/blazing-text/fast-text'"
   ]
  },
  {
   "cell_type": "code",
   "execution_count": 5,
   "metadata": {},
   "outputs": [
    {
     "name": "stderr",
     "output_type": "stream",
     "text": [
      "Defaulting to the only supported framework/algorithm version: 1. Ignoring framework/algorithm version: latest.\n"
     ]
    },
    {
     "name": "stdout",
     "output_type": "stream",
     "text": [
      "Using SageMaker BlazingText container: 811284229777.dkr.ecr.us-east-1.amazonaws.com/blazingtext:1 (us-east-1)\n"
     ]
    }
   ],
   "source": [
    "blazing_text_container = sagemaker.image_uris.retrieve( \"blazingtext\",boto3.Session().region_name,version=\"latest\")\n",
    "print('Using SageMaker BlazingText container: {} ({})'.format(blazing_text_container, boto3.Session().region_name))"
   ]
  },
  {
   "cell_type": "code",
   "execution_count": 6,
   "metadata": {},
   "outputs": [
    {
     "name": "stdout",
     "output_type": "stream",
     "text": [
      "--2021-02-02 20:13:47--  https://dl.fbaipublicfiles.com/fasttext/supervised-models/lid.176.bin\n",
      "Resolving dl.fbaipublicfiles.com (dl.fbaipublicfiles.com)... 104.22.75.142, 104.22.74.142, 172.67.9.4, ...\n",
      "Connecting to dl.fbaipublicfiles.com (dl.fbaipublicfiles.com)|104.22.75.142|:443... connected.\n",
      "HTTP request sent, awaiting response... 200 OK\n",
      "Length: 131266198 (125M) [application/octet-stream]\n",
      "Saving to: ‘model.bin’\n",
      "\n",
      "model.bin           100%[===================>] 125.18M  27.1MB/s    in 5.1s    \n",
      "\n",
      "2021-02-02 20:13:53 (24.6 MB/s) - ‘model.bin’ saved [131266198/131266198]\n",
      "\n"
     ]
    }
   ],
   "source": [
    "!wget -O model.bin https://dl.fbaipublicfiles.com/fasttext/supervised-models/lid.176.bin"
   ]
  },
  {
   "cell_type": "code",
   "execution_count": 11,
   "metadata": {},
   "outputs": [
    {
     "name": "stdout",
     "output_type": "stream",
     "text": [
      "model.bin\n"
     ]
    }
   ],
   "source": [
    "!tar -czvf langid.tar.gz model.bin\n",
    "blazing_text_model_location = my_session.upload_data(\"langid.tar.gz\", bucket=s3_bucket, key_prefix=s3_prefix)\n",
    "!rm langid.tar.gz model.bin"
   ]
  },
  {
   "cell_type": "code",
   "execution_count": null,
   "metadata": {},
   "outputs": [],
   "source": [
    "language_identifier = sagemaker.Model(blazing_text_container,\n",
    "                                      model_data=blazing_text_model_location, \n",
    "                                      role=role, sagemaker_session=my_session)\n",
    "\n",
    "language_identifier.deploy(initial_instance_count = 1,instance_type = 'ml.m4.xlarge')\n"
   ]
  },
  {
   "cell_type": "code",
   "execution_count": 19,
   "metadata": {},
   "outputs": [],
   "source": [
    "from sagemaker.deserializers import JSONDeserializer\n",
    "from sagemaker.serializers import CSVSerializer, JSONSerializer\n",
    "\n",
    "language_identifier_predictor = sagemaker.predictor.Predictor(endpoint_name=language_identifier.endpoint_name, \n",
    "                                   sagemaker_session=my_session,\n",
    "                                   serializer=JSONSerializer(),\n",
    "                                   deserializer=JSONDeserializer())"
   ]
  },
  {
   "cell_type": "code",
   "execution_count": 20,
   "metadata": {},
   "outputs": [],
   "source": [
    "some_language_examples = [\"À quoi sert l'intelligence artificielle\",\n",
    "             \"Was ist der Zweck der künstlichen Intelligenz?\",\n",
    "             \"Wat is die doel van kunsmatige intelligensie\",\n",
    "             \"ما هو الغرض من الذكاء الاصطناعي\",\n",
    "             \"Süni intellektin məqsədi nədir\",\n",
    "             \"Hvad er formålet med kunstig intelligens\"]\n",
    "prediction_input = {\"instances\" : some_language_examples}"
   ]
  },
  {
   "cell_type": "code",
   "execution_count": 21,
   "metadata": {},
   "outputs": [
    {
     "name": "stdout",
     "output_type": "stream",
     "text": [
      "[{'label': ['__label__fr'], 'prob': [0.8571585416793823]}, {'label': ['__label__de'], 'prob': [0.9994584321975708]}, {'label': ['__label__af'], 'prob': [0.465190052986145]}, {'label': ['__label__ar'], 'prob': [0.9983780980110168]}, {'label': ['__label__az'], 'prob': [0.9949907064437866]}, {'label': ['__label__da'], 'prob': [0.864094614982605]}]\n"
     ]
    }
   ],
   "source": [
    "language_predictions = language_identifier_predictor.predict(prediction_input)\n",
    "print(language_predictions)"
   ]
  },
  {
   "cell_type": "code",
   "execution_count": 22,
   "metadata": {},
   "outputs": [
    {
     "name": "stdout",
     "output_type": "stream",
     "text": [
      "[{'language': 'FR', 'probability': [0.8571585416793823]}, {'language': 'DE', 'probability': [0.9994584321975708]}, {'language': 'AF', 'probability': [0.465190052986145]}, {'language': 'AR', 'probability': [0.9983780980110168]}, {'language': 'AZ', 'probability': [0.9949907064437866]}, {'language': 'DA', 'probability': [0.864094614982605]}]\n"
     ]
    }
   ],
   "source": [
    "# Remove the '__label__' before each language identifier in the prediction output\n",
    "# and change the label and prob to more readable values\n",
    "for output in language_predictions:\n",
    "    output['label'] = output['label'][0][9:].upper() # remove __label__ preceding the language identifier\n",
    "    output['language'] = output.pop('label')         # make the labels \n",
    "    output['probability'] = output.pop('prob')       # readable\n",
    "\n",
    "print(language_predictions)"
   ]
  },
  {
   "cell_type": "code",
   "execution_count": 24,
   "metadata": {},
   "outputs": [],
   "source": [
    "sagemaker.Session().delete_endpoint(language_identifier.endpoint_name)\n"
   ]
  },
  {
   "cell_type": "code",
   "execution_count": null,
   "metadata": {},
   "outputs": [],
   "source": []
  }
 ],
 "metadata": {
  "kernelspec": {
   "display_name": "conda_python3",
   "language": "python",
   "name": "conda_python3"
  },
  "language_info": {
   "codemirror_mode": {
    "name": "ipython",
    "version": 3
   },
   "file_extension": ".py",
   "mimetype": "text/x-python",
   "name": "python",
   "nbconvert_exporter": "python",
   "pygments_lexer": "ipython3",
   "version": "3.6.10"
  }
 },
 "nbformat": 4,
 "nbformat_minor": 4
}
