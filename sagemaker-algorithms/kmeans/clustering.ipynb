{
 "cells": [
  {
   "cell_type": "code",
   "execution_count": 22,
   "metadata": {},
   "outputs": [],
   "source": [
    "import os\n",
    "import numpy as np\n",
    "import matplotlib.pyplot as plt\n",
    "import matplotlib\n",
    "import seaborn as sns\n",
    "import boto3\n",
    "import sagemaker\n",
    "import pandas as pd\n",
    "\n",
    "from sagemaker import get_execution_role\n",
    "role = get_execution_role()\n",
    "sagemaker_session = sagemaker.Session()\n",
    "sagemaker_client = boto3.client('sagemaker')"
   ]
  },
  {
   "cell_type": "code",
   "execution_count": null,
   "metadata": {},
   "outputs": [],
   "source": [
    "dataset_url = 'https://archive.ics.uci.edu/ml/machine-learning-databases/00445/Absenteeism_at_work_AAA.zip'\n",
    "s3_prefix = 'aws-machine-learning-specialty/algorithms/k-means/clustering'\n",
    "s3_bucket = sagemaker_session.default_bucket()"
   ]
  },
  {
   "cell_type": "markdown",
   "metadata": {},
   "source": [
    "### Download Dataset "
   ]
  },
  {
   "cell_type": "code",
   "execution_count": 3,
   "metadata": {},
   "outputs": [
    {
     "name": "stdout",
     "output_type": "stream",
     "text": [
      "--2021-01-31 14:41:08--  https://archive.ics.uci.edu/ml/machine-learning-databases/00445/Absenteeism_at_work_AAA.zip\n",
      "Resolving archive.ics.uci.edu (archive.ics.uci.edu)... 128.195.10.252\n",
      "Connecting to archive.ics.uci.edu (archive.ics.uci.edu)|128.195.10.252|:443... connected.\n",
      "HTTP request sent, awaiting response... 200 OK\n",
      "Length: 66136 (65K) [application/x-httpd-php]\n",
      "Saving to: ‘./Absenteeism_at_work_AAA.zip’\n",
      "\n",
      "Absenteeism_at_work 100%[===================>]  64.59K  --.-KB/s    in 0.1s    \n",
      "\n",
      "2021-01-31 14:41:09 (460 KB/s) - ‘./Absenteeism_at_work_AAA.zip’ saved [66136/66136]\n",
      "\n",
      "Archive:  Absenteeism_at_work_AAA.zip\n",
      "  inflating: Absenteeism_at_work.arff  \n",
      "  inflating: Absenteeism_at_work.csv  \n",
      "  inflating: Absenteeism_at_work.xls  \n",
      "  inflating: Attribute Information.docx  \n",
      "  inflating: UCI_ABS_TEXT.docx       \n"
     ]
    }
   ],
   "source": [
    "!wget -P . $dataset_url \n",
    "local_filename = dataset_url.split('/')[-1]\n",
    "!unzip $local_filename  \n",
    "!rm $local_filename"
   ]
  },
  {
   "cell_type": "code",
   "execution_count": 3,
   "metadata": {},
   "outputs": [
    {
     "data": {
      "text/html": [
       "<div>\n",
       "<style scoped>\n",
       "    .dataframe tbody tr th:only-of-type {\n",
       "        vertical-align: middle;\n",
       "    }\n",
       "\n",
       "    .dataframe tbody tr th {\n",
       "        vertical-align: top;\n",
       "    }\n",
       "\n",
       "    .dataframe thead th {\n",
       "        text-align: right;\n",
       "    }\n",
       "</style>\n",
       "<table border=\"1\" class=\"dataframe\">\n",
       "  <thead>\n",
       "    <tr style=\"text-align: right;\">\n",
       "      <th></th>\n",
       "      <th>ID</th>\n",
       "      <th>Reason for absence</th>\n",
       "      <th>Month of absence</th>\n",
       "      <th>Day of the week</th>\n",
       "      <th>Seasons</th>\n",
       "      <th>Transportation expense</th>\n",
       "      <th>Distance from Residence to Work</th>\n",
       "      <th>Service time</th>\n",
       "      <th>Age</th>\n",
       "      <th>Work load Average/day</th>\n",
       "      <th>...</th>\n",
       "      <th>Disciplinary failure</th>\n",
       "      <th>Education</th>\n",
       "      <th>Son</th>\n",
       "      <th>Social drinker</th>\n",
       "      <th>Social smoker</th>\n",
       "      <th>Pet</th>\n",
       "      <th>Weight</th>\n",
       "      <th>Height</th>\n",
       "      <th>Body mass index</th>\n",
       "      <th>Absenteeism time in hours</th>\n",
       "    </tr>\n",
       "  </thead>\n",
       "  <tbody>\n",
       "    <tr>\n",
       "      <th>0</th>\n",
       "      <td>11</td>\n",
       "      <td>26</td>\n",
       "      <td>7</td>\n",
       "      <td>3</td>\n",
       "      <td>1</td>\n",
       "      <td>289</td>\n",
       "      <td>36</td>\n",
       "      <td>13</td>\n",
       "      <td>33</td>\n",
       "      <td>239.554</td>\n",
       "      <td>...</td>\n",
       "      <td>0</td>\n",
       "      <td>1</td>\n",
       "      <td>2</td>\n",
       "      <td>1</td>\n",
       "      <td>0</td>\n",
       "      <td>1</td>\n",
       "      <td>90</td>\n",
       "      <td>172</td>\n",
       "      <td>30</td>\n",
       "      <td>4</td>\n",
       "    </tr>\n",
       "    <tr>\n",
       "      <th>1</th>\n",
       "      <td>36</td>\n",
       "      <td>0</td>\n",
       "      <td>7</td>\n",
       "      <td>3</td>\n",
       "      <td>1</td>\n",
       "      <td>118</td>\n",
       "      <td>13</td>\n",
       "      <td>18</td>\n",
       "      <td>50</td>\n",
       "      <td>239.554</td>\n",
       "      <td>...</td>\n",
       "      <td>1</td>\n",
       "      <td>1</td>\n",
       "      <td>1</td>\n",
       "      <td>1</td>\n",
       "      <td>0</td>\n",
       "      <td>0</td>\n",
       "      <td>98</td>\n",
       "      <td>178</td>\n",
       "      <td>31</td>\n",
       "      <td>0</td>\n",
       "    </tr>\n",
       "    <tr>\n",
       "      <th>2</th>\n",
       "      <td>3</td>\n",
       "      <td>23</td>\n",
       "      <td>7</td>\n",
       "      <td>4</td>\n",
       "      <td>1</td>\n",
       "      <td>179</td>\n",
       "      <td>51</td>\n",
       "      <td>18</td>\n",
       "      <td>38</td>\n",
       "      <td>239.554</td>\n",
       "      <td>...</td>\n",
       "      <td>0</td>\n",
       "      <td>1</td>\n",
       "      <td>0</td>\n",
       "      <td>1</td>\n",
       "      <td>0</td>\n",
       "      <td>0</td>\n",
       "      <td>89</td>\n",
       "      <td>170</td>\n",
       "      <td>31</td>\n",
       "      <td>2</td>\n",
       "    </tr>\n",
       "    <tr>\n",
       "      <th>3</th>\n",
       "      <td>7</td>\n",
       "      <td>7</td>\n",
       "      <td>7</td>\n",
       "      <td>5</td>\n",
       "      <td>1</td>\n",
       "      <td>279</td>\n",
       "      <td>5</td>\n",
       "      <td>14</td>\n",
       "      <td>39</td>\n",
       "      <td>239.554</td>\n",
       "      <td>...</td>\n",
       "      <td>0</td>\n",
       "      <td>1</td>\n",
       "      <td>2</td>\n",
       "      <td>1</td>\n",
       "      <td>1</td>\n",
       "      <td>0</td>\n",
       "      <td>68</td>\n",
       "      <td>168</td>\n",
       "      <td>24</td>\n",
       "      <td>4</td>\n",
       "    </tr>\n",
       "    <tr>\n",
       "      <th>4</th>\n",
       "      <td>11</td>\n",
       "      <td>23</td>\n",
       "      <td>7</td>\n",
       "      <td>5</td>\n",
       "      <td>1</td>\n",
       "      <td>289</td>\n",
       "      <td>36</td>\n",
       "      <td>13</td>\n",
       "      <td>33</td>\n",
       "      <td>239.554</td>\n",
       "      <td>...</td>\n",
       "      <td>0</td>\n",
       "      <td>1</td>\n",
       "      <td>2</td>\n",
       "      <td>1</td>\n",
       "      <td>0</td>\n",
       "      <td>1</td>\n",
       "      <td>90</td>\n",
       "      <td>172</td>\n",
       "      <td>30</td>\n",
       "      <td>2</td>\n",
       "    </tr>\n",
       "  </tbody>\n",
       "</table>\n",
       "<p>5 rows × 21 columns</p>\n",
       "</div>"
      ],
      "text/plain": [
       "   ID  Reason for absence  Month of absence  Day of the week  Seasons  \\\n",
       "0  11                  26                 7                3        1   \n",
       "1  36                   0                 7                3        1   \n",
       "2   3                  23                 7                4        1   \n",
       "3   7                   7                 7                5        1   \n",
       "4  11                  23                 7                5        1   \n",
       "\n",
       "   Transportation expense  Distance from Residence to Work  Service time  Age  \\\n",
       "0                     289                               36            13   33   \n",
       "1                     118                               13            18   50   \n",
       "2                     179                               51            18   38   \n",
       "3                     279                                5            14   39   \n",
       "4                     289                               36            13   33   \n",
       "\n",
       "   Work load Average/day   ...  Disciplinary failure  Education  Son  \\\n",
       "0                 239.554  ...                     0          1    2   \n",
       "1                 239.554  ...                     1          1    1   \n",
       "2                 239.554  ...                     0          1    0   \n",
       "3                 239.554  ...                     0          1    2   \n",
       "4                 239.554  ...                     0          1    2   \n",
       "\n",
       "   Social drinker  Social smoker  Pet  Weight  Height  Body mass index  \\\n",
       "0               1              0    1      90     172               30   \n",
       "1               1              0    0      98     178               31   \n",
       "2               1              0    0      89     170               31   \n",
       "3               1              1    0      68     168               24   \n",
       "4               1              0    1      90     172               30   \n",
       "\n",
       "   Absenteeism time in hours  \n",
       "0                          4  \n",
       "1                          0  \n",
       "2                          2  \n",
       "3                          4  \n",
       "4                          2  \n",
       "\n",
       "[5 rows x 21 columns]"
      ]
     },
     "execution_count": 3,
     "metadata": {},
     "output_type": "execute_result"
    }
   ],
   "source": [
    "absence = pd.read_csv('Absenteeism_at_work.csv',delimiter=\";\")\n",
    "absence.head()"
   ]
  },
  {
   "cell_type": "code",
   "execution_count": 4,
   "metadata": {},
   "outputs": [
    {
     "data": {
      "text/plain": [
       "(740, 20)"
      ]
     },
     "execution_count": 4,
     "metadata": {},
     "output_type": "execute_result"
    }
   ],
   "source": [
    "absence = absence.drop(['ID'], axis=1)\n",
    "absence.shape"
   ]
  },
  {
   "cell_type": "code",
   "execution_count": 5,
   "metadata": {},
   "outputs": [
    {
     "data": {
      "text/plain": [
       "(740, 20)"
      ]
     },
     "execution_count": 5,
     "metadata": {},
     "output_type": "execute_result"
    }
   ],
   "source": [
    "absence.dropna(inplace=True)\n",
    "absence.shape"
   ]
  },
  {
   "cell_type": "code",
   "execution_count": 6,
   "metadata": {},
   "outputs": [
    {
     "data": {
      "text/html": [
       "<div>\n",
       "<style scoped>\n",
       "    .dataframe tbody tr th:only-of-type {\n",
       "        vertical-align: middle;\n",
       "    }\n",
       "\n",
       "    .dataframe tbody tr th {\n",
       "        vertical-align: top;\n",
       "    }\n",
       "\n",
       "    .dataframe thead th {\n",
       "        text-align: right;\n",
       "    }\n",
       "</style>\n",
       "<table border=\"1\" class=\"dataframe\">\n",
       "  <thead>\n",
       "    <tr style=\"text-align: right;\">\n",
       "      <th></th>\n",
       "      <th>Reason for absence</th>\n",
       "      <th>Month of absence</th>\n",
       "      <th>Day of the week</th>\n",
       "      <th>Seasons</th>\n",
       "      <th>Transportation expense</th>\n",
       "      <th>Distance from Residence to Work</th>\n",
       "      <th>Service time</th>\n",
       "      <th>Age</th>\n",
       "      <th>Work load Average/day</th>\n",
       "      <th>Hit target</th>\n",
       "      <th>Disciplinary failure</th>\n",
       "      <th>Education</th>\n",
       "      <th>Son</th>\n",
       "      <th>Social drinker</th>\n",
       "      <th>Social smoker</th>\n",
       "      <th>Pet</th>\n",
       "      <th>Weight</th>\n",
       "      <th>Height</th>\n",
       "      <th>Body mass index</th>\n",
       "      <th>Absenteeism time in hours</th>\n",
       "    </tr>\n",
       "    <tr>\n",
       "      <th>Reason for absence</th>\n",
       "      <th></th>\n",
       "      <th></th>\n",
       "      <th></th>\n",
       "      <th></th>\n",
       "      <th></th>\n",
       "      <th></th>\n",
       "      <th></th>\n",
       "      <th></th>\n",
       "      <th></th>\n",
       "      <th></th>\n",
       "      <th></th>\n",
       "      <th></th>\n",
       "      <th></th>\n",
       "      <th></th>\n",
       "      <th></th>\n",
       "      <th></th>\n",
       "      <th></th>\n",
       "      <th></th>\n",
       "      <th></th>\n",
       "      <th></th>\n",
       "    </tr>\n",
       "  </thead>\n",
       "  <tbody>\n",
       "    <tr>\n",
       "      <th>26</th>\n",
       "      <td>26</td>\n",
       "      <td>7</td>\n",
       "      <td>3</td>\n",
       "      <td>1</td>\n",
       "      <td>289</td>\n",
       "      <td>36</td>\n",
       "      <td>13</td>\n",
       "      <td>33</td>\n",
       "      <td>239.554</td>\n",
       "      <td>97</td>\n",
       "      <td>0</td>\n",
       "      <td>1</td>\n",
       "      <td>2</td>\n",
       "      <td>1</td>\n",
       "      <td>0</td>\n",
       "      <td>1</td>\n",
       "      <td>90</td>\n",
       "      <td>172</td>\n",
       "      <td>30</td>\n",
       "      <td>4</td>\n",
       "    </tr>\n",
       "    <tr>\n",
       "      <th>0</th>\n",
       "      <td>0</td>\n",
       "      <td>7</td>\n",
       "      <td>3</td>\n",
       "      <td>1</td>\n",
       "      <td>118</td>\n",
       "      <td>13</td>\n",
       "      <td>18</td>\n",
       "      <td>50</td>\n",
       "      <td>239.554</td>\n",
       "      <td>97</td>\n",
       "      <td>1</td>\n",
       "      <td>1</td>\n",
       "      <td>1</td>\n",
       "      <td>1</td>\n",
       "      <td>0</td>\n",
       "      <td>0</td>\n",
       "      <td>98</td>\n",
       "      <td>178</td>\n",
       "      <td>31</td>\n",
       "      <td>0</td>\n",
       "    </tr>\n",
       "    <tr>\n",
       "      <th>23</th>\n",
       "      <td>23</td>\n",
       "      <td>7</td>\n",
       "      <td>4</td>\n",
       "      <td>1</td>\n",
       "      <td>179</td>\n",
       "      <td>51</td>\n",
       "      <td>18</td>\n",
       "      <td>38</td>\n",
       "      <td>239.554</td>\n",
       "      <td>97</td>\n",
       "      <td>0</td>\n",
       "      <td>1</td>\n",
       "      <td>0</td>\n",
       "      <td>1</td>\n",
       "      <td>0</td>\n",
       "      <td>0</td>\n",
       "      <td>89</td>\n",
       "      <td>170</td>\n",
       "      <td>31</td>\n",
       "      <td>2</td>\n",
       "    </tr>\n",
       "    <tr>\n",
       "      <th>7</th>\n",
       "      <td>7</td>\n",
       "      <td>7</td>\n",
       "      <td>5</td>\n",
       "      <td>1</td>\n",
       "      <td>279</td>\n",
       "      <td>5</td>\n",
       "      <td>14</td>\n",
       "      <td>39</td>\n",
       "      <td>239.554</td>\n",
       "      <td>97</td>\n",
       "      <td>0</td>\n",
       "      <td>1</td>\n",
       "      <td>2</td>\n",
       "      <td>1</td>\n",
       "      <td>1</td>\n",
       "      <td>0</td>\n",
       "      <td>68</td>\n",
       "      <td>168</td>\n",
       "      <td>24</td>\n",
       "      <td>4</td>\n",
       "    </tr>\n",
       "    <tr>\n",
       "      <th>23</th>\n",
       "      <td>23</td>\n",
       "      <td>7</td>\n",
       "      <td>5</td>\n",
       "      <td>1</td>\n",
       "      <td>289</td>\n",
       "      <td>36</td>\n",
       "      <td>13</td>\n",
       "      <td>33</td>\n",
       "      <td>239.554</td>\n",
       "      <td>97</td>\n",
       "      <td>0</td>\n",
       "      <td>1</td>\n",
       "      <td>2</td>\n",
       "      <td>1</td>\n",
       "      <td>0</td>\n",
       "      <td>1</td>\n",
       "      <td>90</td>\n",
       "      <td>172</td>\n",
       "      <td>30</td>\n",
       "      <td>2</td>\n",
       "    </tr>\n",
       "  </tbody>\n",
       "</table>\n",
       "</div>"
      ],
      "text/plain": [
       "                    Reason for absence  Month of absence  Day of the week  \\\n",
       "Reason for absence                                                          \n",
       "26                                  26                 7                3   \n",
       "0                                    0                 7                3   \n",
       "23                                  23                 7                4   \n",
       "7                                    7                 7                5   \n",
       "23                                  23                 7                5   \n",
       "\n",
       "                    Seasons  Transportation expense  \\\n",
       "Reason for absence                                    \n",
       "26                        1                     289   \n",
       "0                         1                     118   \n",
       "23                        1                     179   \n",
       "7                         1                     279   \n",
       "23                        1                     289   \n",
       "\n",
       "                    Distance from Residence to Work  Service time  Age  \\\n",
       "Reason for absence                                                       \n",
       "26                                               36            13   33   \n",
       "0                                                13            18   50   \n",
       "23                                               51            18   38   \n",
       "7                                                 5            14   39   \n",
       "23                                               36            13   33   \n",
       "\n",
       "                    Work load Average/day   Hit target  Disciplinary failure  \\\n",
       "Reason for absence                                                             \n",
       "26                                 239.554          97                     0   \n",
       "0                                  239.554          97                     1   \n",
       "23                                 239.554          97                     0   \n",
       "7                                  239.554          97                     0   \n",
       "23                                 239.554          97                     0   \n",
       "\n",
       "                    Education  Son  Social drinker  Social smoker  Pet  \\\n",
       "Reason for absence                                                       \n",
       "26                          1    2               1              0    1   \n",
       "0                           1    1               1              0    0   \n",
       "23                          1    0               1              0    0   \n",
       "7                           1    2               1              1    0   \n",
       "23                          1    2               1              0    1   \n",
       "\n",
       "                    Weight  Height  Body mass index  Absenteeism time in hours  \n",
       "Reason for absence                                                              \n",
       "26                      90     172               30                          4  \n",
       "0                       98     178               31                          0  \n",
       "23                      89     170               31                          2  \n",
       "7                       68     168               24                          4  \n",
       "23                      90     172               30                          2  "
      ]
     },
     "execution_count": 6,
     "metadata": {},
     "output_type": "execute_result"
    }
   ],
   "source": [
    "absence.index=absence['Reason for absence']\n",
    "absence.head()"
   ]
  },
  {
   "cell_type": "code",
   "execution_count": 7,
   "metadata": {},
   "outputs": [
    {
     "data": {
      "text/plain": [
       "(740, 20)"
      ]
     },
     "execution_count": 7,
     "metadata": {},
     "output_type": "execute_result"
    }
   ],
   "source": [
    "absence.shape"
   ]
  },
  {
   "cell_type": "markdown",
   "metadata": {},
   "source": [
    "### Visualizaciones"
   ]
  },
  {
   "cell_type": "code",
   "execution_count": 8,
   "metadata": {},
   "outputs": [
    {
     "data": {
      "image/png": "[encoded data removed]",
      "text/plain": [
       "<Figure size 1296x288 with 3 Axes>"
      ]
     },
     "metadata": {
      "needs_background": "light"
     },
     "output_type": "display_data"
    }
   ],
   "source": [
    "fig, ax = plt.subplots(1,3, figsize=(18,4))\n",
    "axf = ax.flatten()\n",
    "for i,a in enumerate(['Reason for absence', 'Transportation expense', 'Distance from Residence to Work']):\n",
    "    absence[a].plot.hist(ax=axf[i], density=True)\n",
    "    absence[a].plot.kde(ax=axf[i])\n",
    "    axf[i].set_title('Histogram de '+ a, fontsize=12)\n",
    "    "
   ]
  },
  {
   "cell_type": "markdown",
   "metadata": {},
   "source": [
    "### Preprocessing\n",
    "\n",
    "Hay que estandarizar las columnas para calcular distancias correctamente.\n",
    "MinMaxScaler transforma las columnas entre 0 y 1"
   ]
  },
  {
   "cell_type": "code",
   "execution_count": 9,
   "metadata": {},
   "outputs": [],
   "source": [
    "from sklearn.preprocessing import MinMaxScaler\n",
    "scaler=MinMaxScaler()\n",
    "absence_scaled=pd.DataFrame(scaler.fit_transform(absence))\n",
    "absence_scaled.columns=absence.columns\n",
    "absence_scaled.index=absence.index"
   ]
  },
  {
   "cell_type": "code",
   "execution_count": 10,
   "metadata": {},
   "outputs": [
    {
     "data": {
      "text/html": [
       "<div>\n",
       "<style scoped>\n",
       "    .dataframe tbody tr th:only-of-type {\n",
       "        vertical-align: middle;\n",
       "    }\n",
       "\n",
       "    .dataframe tbody tr th {\n",
       "        vertical-align: top;\n",
       "    }\n",
       "\n",
       "    .dataframe thead th {\n",
       "        text-align: right;\n",
       "    }\n",
       "</style>\n",
       "<table border=\"1\" class=\"dataframe\">\n",
       "  <thead>\n",
       "    <tr style=\"text-align: right;\">\n",
       "      <th></th>\n",
       "      <th>Reason for absence</th>\n",
       "      <th>Month of absence</th>\n",
       "      <th>Day of the week</th>\n",
       "      <th>Seasons</th>\n",
       "      <th>Transportation expense</th>\n",
       "      <th>Distance from Residence to Work</th>\n",
       "      <th>Service time</th>\n",
       "      <th>Age</th>\n",
       "      <th>Work load Average/day</th>\n",
       "      <th>Hit target</th>\n",
       "      <th>Disciplinary failure</th>\n",
       "      <th>Education</th>\n",
       "      <th>Son</th>\n",
       "      <th>Social drinker</th>\n",
       "      <th>Social smoker</th>\n",
       "      <th>Pet</th>\n",
       "      <th>Weight</th>\n",
       "      <th>Height</th>\n",
       "      <th>Body mass index</th>\n",
       "      <th>Absenteeism time in hours</th>\n",
       "    </tr>\n",
       "  </thead>\n",
       "  <tbody>\n",
       "    <tr>\n",
       "      <th>count</th>\n",
       "      <td>740.000000</td>\n",
       "      <td>740.000000</td>\n",
       "      <td>740.000000</td>\n",
       "      <td>740.000000</td>\n",
       "      <td>740.000000</td>\n",
       "      <td>740.000000</td>\n",
       "      <td>740.000000</td>\n",
       "      <td>740.000000</td>\n",
       "      <td>740.000000</td>\n",
       "      <td>740.000000</td>\n",
       "      <td>740.000000</td>\n",
       "      <td>740.000000</td>\n",
       "      <td>740.000000</td>\n",
       "      <td>740.000000</td>\n",
       "      <td>740.000000</td>\n",
       "      <td>740.000000</td>\n",
       "      <td>740.000000</td>\n",
       "      <td>740.000000</td>\n",
       "      <td>740.000000</td>\n",
       "      <td>740.000000</td>\n",
       "    </tr>\n",
       "    <tr>\n",
       "      <th>mean</th>\n",
       "      <td>0.686293</td>\n",
       "      <td>0.527027</td>\n",
       "      <td>0.478716</td>\n",
       "      <td>0.514865</td>\n",
       "      <td>0.382703</td>\n",
       "      <td>0.524066</td>\n",
       "      <td>0.412645</td>\n",
       "      <td>0.304839</td>\n",
       "      <td>0.379108</td>\n",
       "      <td>0.715149</td>\n",
       "      <td>0.054054</td>\n",
       "      <td>0.097297</td>\n",
       "      <td>0.254730</td>\n",
       "      <td>0.567568</td>\n",
       "      <td>0.072973</td>\n",
       "      <td>0.093243</td>\n",
       "      <td>0.442983</td>\n",
       "      <td>0.276208</td>\n",
       "      <td>0.404054</td>\n",
       "      <td>0.057703</td>\n",
       "    </tr>\n",
       "    <tr>\n",
       "      <th>std</th>\n",
       "      <td>0.301193</td>\n",
       "      <td>0.286357</td>\n",
       "      <td>0.355419</td>\n",
       "      <td>0.370610</td>\n",
       "      <td>0.247971</td>\n",
       "      <td>0.315676</td>\n",
       "      <td>0.156603</td>\n",
       "      <td>0.208993</td>\n",
       "      <td>0.225813</td>\n",
       "      <td>0.198911</td>\n",
       "      <td>0.226277</td>\n",
       "      <td>0.224413</td>\n",
       "      <td>0.274622</td>\n",
       "      <td>0.495749</td>\n",
       "      <td>0.260268</td>\n",
       "      <td>0.164782</td>\n",
       "      <td>0.247754</td>\n",
       "      <td>0.182879</td>\n",
       "      <td>0.225550</td>\n",
       "      <td>0.111092</td>\n",
       "    </tr>\n",
       "    <tr>\n",
       "      <th>min</th>\n",
       "      <td>0.000000</td>\n",
       "      <td>0.000000</td>\n",
       "      <td>0.000000</td>\n",
       "      <td>0.000000</td>\n",
       "      <td>0.000000</td>\n",
       "      <td>0.000000</td>\n",
       "      <td>0.000000</td>\n",
       "      <td>0.000000</td>\n",
       "      <td>0.000000</td>\n",
       "      <td>0.000000</td>\n",
       "      <td>0.000000</td>\n",
       "      <td>0.000000</td>\n",
       "      <td>0.000000</td>\n",
       "      <td>0.000000</td>\n",
       "      <td>0.000000</td>\n",
       "      <td>0.000000</td>\n",
       "      <td>0.000000</td>\n",
       "      <td>0.000000</td>\n",
       "      <td>0.000000</td>\n",
       "      <td>0.000000</td>\n",
       "    </tr>\n",
       "    <tr>\n",
       "      <th>25%</th>\n",
       "      <td>0.464286</td>\n",
       "      <td>0.250000</td>\n",
       "      <td>0.250000</td>\n",
       "      <td>0.333333</td>\n",
       "      <td>0.225926</td>\n",
       "      <td>0.234043</td>\n",
       "      <td>0.285714</td>\n",
       "      <td>0.129032</td>\n",
       "      <td>0.222412</td>\n",
       "      <td>0.631579</td>\n",
       "      <td>0.000000</td>\n",
       "      <td>0.000000</td>\n",
       "      <td>0.000000</td>\n",
       "      <td>0.000000</td>\n",
       "      <td>0.000000</td>\n",
       "      <td>0.000000</td>\n",
       "      <td>0.250000</td>\n",
       "      <td>0.181818</td>\n",
       "      <td>0.263158</td>\n",
       "      <td>0.016667</td>\n",
       "    </tr>\n",
       "    <tr>\n",
       "      <th>50%</th>\n",
       "      <td>0.821429</td>\n",
       "      <td>0.500000</td>\n",
       "      <td>0.500000</td>\n",
       "      <td>0.666667</td>\n",
       "      <td>0.396296</td>\n",
       "      <td>0.446809</td>\n",
       "      <td>0.428571</td>\n",
       "      <td>0.322581</td>\n",
       "      <td>0.337244</td>\n",
       "      <td>0.736842</td>\n",
       "      <td>0.000000</td>\n",
       "      <td>0.000000</td>\n",
       "      <td>0.250000</td>\n",
       "      <td>1.000000</td>\n",
       "      <td>0.000000</td>\n",
       "      <td>0.000000</td>\n",
       "      <td>0.519231</td>\n",
       "      <td>0.212121</td>\n",
       "      <td>0.315789</td>\n",
       "      <td>0.025000</td>\n",
       "    </tr>\n",
       "    <tr>\n",
       "      <th>75%</th>\n",
       "      <td>0.928571</td>\n",
       "      <td>0.750000</td>\n",
       "      <td>0.750000</td>\n",
       "      <td>1.000000</td>\n",
       "      <td>0.525926</td>\n",
       "      <td>0.957447</td>\n",
       "      <td>0.535714</td>\n",
       "      <td>0.419355</td>\n",
       "      <td>0.510502</td>\n",
       "      <td>0.842105</td>\n",
       "      <td>0.000000</td>\n",
       "      <td>0.000000</td>\n",
       "      <td>0.500000</td>\n",
       "      <td>1.000000</td>\n",
       "      <td>0.000000</td>\n",
       "      <td>0.125000</td>\n",
       "      <td>0.634615</td>\n",
       "      <td>0.272727</td>\n",
       "      <td>0.631579</td>\n",
       "      <td>0.066667</td>\n",
       "    </tr>\n",
       "    <tr>\n",
       "      <th>max</th>\n",
       "      <td>1.000000</td>\n",
       "      <td>1.000000</td>\n",
       "      <td>1.000000</td>\n",
       "      <td>1.000000</td>\n",
       "      <td>1.000000</td>\n",
       "      <td>1.000000</td>\n",
       "      <td>1.000000</td>\n",
       "      <td>1.000000</td>\n",
       "      <td>1.000000</td>\n",
       "      <td>1.000000</td>\n",
       "      <td>1.000000</td>\n",
       "      <td>1.000000</td>\n",
       "      <td>1.000000</td>\n",
       "      <td>1.000000</td>\n",
       "      <td>1.000000</td>\n",
       "      <td>1.000000</td>\n",
       "      <td>1.000000</td>\n",
       "      <td>1.000000</td>\n",
       "      <td>1.000000</td>\n",
       "      <td>1.000000</td>\n",
       "    </tr>\n",
       "  </tbody>\n",
       "</table>\n",
       "</div>"
      ],
      "text/plain": [
       "       Reason for absence  Month of absence  Day of the week     Seasons  \\\n",
       "count          740.000000        740.000000       740.000000  740.000000   \n",
       "mean             0.686293          0.527027         0.478716    0.514865   \n",
       "std              0.301193          0.286357         0.355419    0.370610   \n",
       "min              0.000000          0.000000         0.000000    0.000000   \n",
       "25%              0.464286          0.250000         0.250000    0.333333   \n",
       "50%              0.821429          0.500000         0.500000    0.666667   \n",
       "75%              0.928571          0.750000         0.750000    1.000000   \n",
       "max              1.000000          1.000000         1.000000    1.000000   \n",
       "\n",
       "       Transportation expense  Distance from Residence to Work  Service time  \\\n",
       "count              740.000000                       740.000000    740.000000   \n",
       "mean                 0.382703                         0.524066      0.412645   \n",
       "std                  0.247971                         0.315676      0.156603   \n",
       "min                  0.000000                         0.000000      0.000000   \n",
       "25%                  0.225926                         0.234043      0.285714   \n",
       "50%                  0.396296                         0.446809      0.428571   \n",
       "75%                  0.525926                         0.957447      0.535714   \n",
       "max                  1.000000                         1.000000      1.000000   \n",
       "\n",
       "              Age  Work load Average/day   Hit target  Disciplinary failure  \\\n",
       "count  740.000000              740.000000  740.000000            740.000000   \n",
       "mean     0.304839                0.379108    0.715149              0.054054   \n",
       "std      0.208993                0.225813    0.198911              0.226277   \n",
       "min      0.000000                0.000000    0.000000              0.000000   \n",
       "25%      0.129032                0.222412    0.631579              0.000000   \n",
       "50%      0.322581                0.337244    0.736842              0.000000   \n",
       "75%      0.419355                0.510502    0.842105              0.000000   \n",
       "max      1.000000                1.000000    1.000000              1.000000   \n",
       "\n",
       "        Education         Son  Social drinker  Social smoker         Pet  \\\n",
       "count  740.000000  740.000000      740.000000     740.000000  740.000000   \n",
       "mean     0.097297    0.254730        0.567568       0.072973    0.093243   \n",
       "std      0.224413    0.274622        0.495749       0.260268    0.164782   \n",
       "min      0.000000    0.000000        0.000000       0.000000    0.000000   \n",
       "25%      0.000000    0.000000        0.000000       0.000000    0.000000   \n",
       "50%      0.000000    0.250000        1.000000       0.000000    0.000000   \n",
       "75%      0.000000    0.500000        1.000000       0.000000    0.125000   \n",
       "max      1.000000    1.000000        1.000000       1.000000    1.000000   \n",
       "\n",
       "           Weight      Height  Body mass index  Absenteeism time in hours  \n",
       "count  740.000000  740.000000       740.000000                 740.000000  \n",
       "mean     0.442983    0.276208         0.404054                   0.057703  \n",
       "std      0.247754    0.182879         0.225550                   0.111092  \n",
       "min      0.000000    0.000000         0.000000                   0.000000  \n",
       "25%      0.250000    0.181818         0.263158                   0.016667  \n",
       "50%      0.519231    0.212121         0.315789                   0.025000  \n",
       "75%      0.634615    0.272727         0.631579                   0.066667  \n",
       "max      1.000000    1.000000         1.000000                   1.000000  "
      ]
     },
     "execution_count": 10,
     "metadata": {},
     "output_type": "execute_result"
    }
   ],
   "source": [
    "absence_scaled.describe()"
   ]
  },
  {
   "cell_type": "markdown",
   "metadata": {},
   "source": [
    "#### Principal Component Analysis (PCA de Sagemaker)"
   ]
  },
  {
   "cell_type": "code",
   "execution_count": 13,
   "metadata": {},
   "outputs": [],
   "source": [
    "from sagemaker import PCA\n",
    "num_components=19\n",
    "pca_output = 's3://{}/{}/absence/'.format(s3_bucket, s3_prefix)\n",
    "\n",
    "pca_SM = PCA(role=role,\n",
    "             instance_count=1,\n",
    "             instance_type='ml.c4.xlarge',\n",
    "             output_path=pca_output,\n",
    "             num_components=num_components)\n",
    "\n",
    "train_data = absence_scaled.values.astype('float32')"
   ]
  },
  {
   "cell_type": "code",
   "execution_count": 14,
   "metadata": {
    "scrolled": true
   },
   "outputs": [
    {
     "name": "stderr",
     "output_type": "stream",
     "text": [
      "Defaulting to the only supported framework/algorithm version: 1. Ignoring framework/algorithm version: 1.\n",
      "Defaulting to the only supported framework/algorithm version: 1. Ignoring framework/algorithm version: 1.\n"
     ]
    },
    {
     "name": "stdout",
     "output_type": "stream",
     "text": [
      "2021-02-01 00:58:14 Starting - Starting the training job...\n",
      "2021-02-01 00:58:38 Starting - Launching requested ML instancesProfilerReport-1612141094: InProgress\n",
      ".........\n",
      "2021-02-01 00:59:58 Starting - Preparing the instances for training...\n",
      "2021-02-01 01:00:40 Downloading - Downloading input data...\n",
      "2021-02-01 01:00:59 Training - Downloading the training image...\n",
      "2021-02-01 01:01:45 Uploading - Uploading generated training model.\u001b[34mDocker entrypoint called with argument(s): train\u001b[0m\n",
      "\u001b[34mRunning default environment configuration script\u001b[0m\n",
      "\u001b[34m[02/01/2021 01:01:42 INFO 140510342133568] Reading default configuration from /opt/amazon/lib/python2.7/site-packages/algorithm/resources/default-conf.json: {u'_num_gpus': u'auto', u'_log_level': u'info', u'subtract_mean': u'true', u'force_dense': u'true', u'epochs': 1, u'algorithm_mode': u'regular', u'extra_components': u'-1', u'_kvstore': u'dist_sync', u'_num_kv_servers': u'auto'}\u001b[0m\n",
      "\u001b[34m[02/01/2021 01:01:42 INFO 140510342133568] Merging with provided configuration from /opt/ml/input/config/hyperparameters.json: {u'feature_dim': u'20', u'mini_batch_size': u'500', u'num_components': u'19'}\u001b[0m\n",
      "\u001b[34m[02/01/2021 01:01:42 INFO 140510342133568] Final configuration: {u'num_components': u'19', u'_num_gpus': u'auto', u'_log_level': u'info', u'subtract_mean': u'true', u'force_dense': u'true', u'epochs': 1, u'algorithm_mode': u'regular', u'feature_dim': u'20', u'extra_components': u'-1', u'_kvstore': u'dist_sync', u'_num_kv_servers': u'auto', u'mini_batch_size': u'500'}\u001b[0m\n",
      "\u001b[34m[02/01/2021 01:01:42 WARNING 140510342133568] Loggers have already been setup.\u001b[0m\n",
      "\u001b[34m[02/01/2021 01:01:42 INFO 140510342133568] Launching parameter server for role scheduler\u001b[0m\n",
      "\u001b[34m[02/01/2021 01:01:42 INFO 140510342133568] {'ECS_CONTAINER_METADATA_URI': 'http://169.254.170.2/v3/79e7cd89-5938-43b2-8fac-10067ad40cfb', 'ECS_CONTAINER_METADATA_URI_V4': 'http://169.254.170.2/v4/79e7cd89-5938-43b2-8fac-10067ad40cfb', 'PROTOCOL_BUFFERS_PYTHON_IMPLEMENTATION_VERSION': '2', 'PATH': '/opt/amazon/bin:/usr/local/nvidia/bin:/usr/local/sbin:/usr/local/bin:/usr/sbin:/usr/bin:/sbin:/bin:/opt/amazon/bin:/opt/amazon/bin', 'SAGEMAKER_HTTP_PORT': '8080', 'HOME': '/root', 'PYTHONUNBUFFERED': 'TRUE', 'CANONICAL_ENVROOT': '/opt/amazon', 'LD_LIBRARY_PATH': '/opt/amazon/lib/python2.7/site-packages/cv2/../../../../lib:/usr/local/nvidia/lib64:/opt/amazon/lib', 'LANG': 'en_US.utf8', 'DMLC_INTERFACE': 'eth0', 'SHLVL': '1', 'AWS_REGION': 'us-east-1', 'NVIDIA_VISIBLE_DEVICES': 'void', 'TRAINING_JOB_NAME': 'pca-2021-02-01-00-58-14-771', 'PROTOCOL_BUFFERS_PYTHON_IMPLEMENTATION': 'cpp', 'ENVROOT': '/opt/amazon', 'SAGEMAKER_DATA_PATH': '/opt/ml', 'NVIDIA_DRIVER_CAPABILITIES': 'compute,utility', 'NVIDIA_REQUIRE_CUDA': 'cuda>=9.0', 'OMP_NUM_THREADS': '2', 'HOSTNAME': 'ip-10-2-174-77.ec2.internal', 'AWS_CONTAINER_CREDENTIALS_RELATIVE_URI': '/v2/credentials/5df7316e-1e52-4431-9533-4519b4a2bc18', 'PWD': '/', 'TRAINING_JOB_ARN': 'arn:aws:sagemaker:us-east-1:844626608976:training-job/pca-2021-02-01-00-58-14-771', 'AWS_EXECUTION_ENV': 'AWS_ECS_EC2'}\u001b[0m\n",
      "\u001b[34m[02/01/2021 01:01:42 INFO 140510342133568] envs={'ECS_CONTAINER_METADATA_URI': 'http://169.254.170.2/v3/79e7cd89-5938-43b2-8fac-10067ad40cfb', 'ECS_CONTAINER_METADATA_URI_V4': 'http://169.254.170.2/v4/79e7cd89-5938-43b2-8fac-10067ad40cfb', 'PROTOCOL_BUFFERS_PYTHON_IMPLEMENTATION_VERSION': '2', 'DMLC_NUM_WORKER': '1', 'DMLC_PS_ROOT_PORT': '9000', 'PATH': '/opt/amazon/bin:/usr/local/nvidia/bin:/usr/local/sbin:/usr/local/bin:/usr/sbin:/usr/bin:/sbin:/bin:/opt/amazon/bin:/opt/amazon/bin', 'SAGEMAKER_HTTP_PORT': '8080', 'HOME': '/root', 'PYTHONUNBUFFERED': 'TRUE', 'CANONICAL_ENVROOT': '/opt/amazon', 'LD_LIBRARY_PATH': '/opt/amazon/lib/python2.7/site-packages/cv2/../../../../lib:/usr/local/nvidia/lib64:/opt/amazon/lib', 'LANG': 'en_US.utf8', 'DMLC_INTERFACE': 'eth0', 'SHLVL': '1', 'DMLC_PS_ROOT_URI': '10.2.174.77', 'AWS_REGION': 'us-east-1', 'NVIDIA_VISIBLE_DEVICES': 'void', 'TRAINING_JOB_NAME': 'pca-2021-02-01-00-58-14-771', 'PROTOCOL_BUFFERS_PYTHON_IMPLEMENTATION': 'cpp', 'ENVROOT': '/opt/amazon', 'SAGEMAKER_DATA_PATH': '/opt/ml', 'NVIDIA_DRIVER_CAPABILITIES': 'compute,utility', 'NVIDIA_REQUIRE_CUDA': 'cuda>=9.0', 'OMP_NUM_THREADS': '2', 'HOSTNAME': 'ip-10-2-174-77.ec2.internal', 'AWS_CONTAINER_CREDENTIALS_RELATIVE_URI': '/v2/credentials/5df7316e-1e52-4431-9533-4519b4a2bc18', 'DMLC_ROLE': 'scheduler', 'PWD': '/', 'DMLC_NUM_SERVER': '1', 'TRAINING_JOB_ARN': 'arn:aws:sagemaker:us-east-1:844626608976:training-job/pca-2021-02-01-00-58-14-771', 'AWS_EXECUTION_ENV': 'AWS_ECS_EC2'}\u001b[0m\n",
      "\u001b[34m[02/01/2021 01:01:42 INFO 140510342133568] Launching parameter server for role server\u001b[0m\n",
      "\u001b[34m[02/01/2021 01:01:42 INFO 140510342133568] {'ECS_CONTAINER_METADATA_URI': 'http://169.254.170.2/v3/79e7cd89-5938-43b2-8fac-10067ad40cfb', 'ECS_CONTAINER_METADATA_URI_V4': 'http://169.254.170.2/v4/79e7cd89-5938-43b2-8fac-10067ad40cfb', 'PROTOCOL_BUFFERS_PYTHON_IMPLEMENTATION_VERSION': '2', 'PATH': '/opt/amazon/bin:/usr/local/nvidia/bin:/usr/local/sbin:/usr/local/bin:/usr/sbin:/usr/bin:/sbin:/bin:/opt/amazon/bin:/opt/amazon/bin', 'SAGEMAKER_HTTP_PORT': '8080', 'HOME': '/root', 'PYTHONUNBUFFERED': 'TRUE', 'CANONICAL_ENVROOT': '/opt/amazon', 'LD_LIBRARY_PATH': '/opt/amazon/lib/python2.7/site-packages/cv2/../../../../lib:/usr/local/nvidia/lib64:/opt/amazon/lib', 'LANG': 'en_US.utf8', 'DMLC_INTERFACE': 'eth0', 'SHLVL': '1', 'AWS_REGION': 'us-east-1', 'NVIDIA_VISIBLE_DEVICES': 'void', 'TRAINING_JOB_NAME': 'pca-2021-02-01-00-58-14-771', 'PROTOCOL_BUFFERS_PYTHON_IMPLEMENTATION': 'cpp', 'ENVROOT': '/opt/amazon', 'SAGEMAKER_DATA_PATH': '/opt/ml', 'NVIDIA_DRIVER_CAPABILITIES': 'compute,utility', 'NVIDIA_REQUIRE_CUDA': 'cuda>=9.0', 'OMP_NUM_THREADS': '2', 'HOSTNAME': 'ip-10-2-174-77.ec2.internal', 'AWS_CONTAINER_CREDENTIALS_RELATIVE_URI': '/v2/credentials/5df7316e-1e52-4431-9533-4519b4a2bc18', 'PWD': '/', 'TRAINING_JOB_ARN': 'arn:aws:sagemaker:us-east-1:844626608976:training-job/pca-2021-02-01-00-58-14-771', 'AWS_EXECUTION_ENV': 'AWS_ECS_EC2'}\u001b[0m\n",
      "\u001b[34m[02/01/2021 01:01:42 INFO 140510342133568] envs={'ECS_CONTAINER_METADATA_URI': 'http://169.254.170.2/v3/79e7cd89-5938-43b2-8fac-10067ad40cfb', 'ECS_CONTAINER_METADATA_URI_V4': 'http://169.254.170.2/v4/79e7cd89-5938-43b2-8fac-10067ad40cfb', 'PROTOCOL_BUFFERS_PYTHON_IMPLEMENTATION_VERSION': '2', 'DMLC_NUM_WORKER': '1', 'DMLC_PS_ROOT_PORT': '9000', 'PATH': '/opt/amazon/bin:/usr/local/nvidia/bin:/usr/local/sbin:/usr/local/bin:/usr/sbin:/usr/bin:/sbin:/bin:/opt/amazon/bin:/opt/amazon/bin', 'SAGEMAKER_HTTP_PORT': '8080', 'HOME': '/root', 'PYTHONUNBUFFERED': 'TRUE', 'CANONICAL_ENVROOT': '/opt/amazon', 'LD_LIBRARY_PATH': '/opt/amazon/lib/python2.7/site-packages/cv2/../../../../lib:/usr/local/nvidia/lib64:/opt/amazon/lib', 'LANG': 'en_US.utf8', 'DMLC_INTERFACE': 'eth0', 'SHLVL': '1', 'DMLC_PS_ROOT_URI': '10.2.174.77', 'AWS_REGION': 'us-east-1', 'NVIDIA_VISIBLE_DEVICES': 'void', 'TRAINING_JOB_NAME': 'pca-2021-02-01-00-58-14-771', 'PROTOCOL_BUFFERS_PYTHON_IMPLEMENTATION': 'cpp', 'ENVROOT': '/opt/amazon', 'SAGEMAKER_DATA_PATH': '/opt/ml', 'NVIDIA_DRIVER_CAPABILITIES': 'compute,utility', 'NVIDIA_REQUIRE_CUDA': 'cuda>=9.0', 'OMP_NUM_THREADS': '2', 'HOSTNAME': 'ip-10-2-174-77.ec2.internal', 'AWS_CONTAINER_CREDENTIALS_RELATIVE_URI': '/v2/credentials/5df7316e-1e52-4431-9533-4519b4a2bc18', 'DMLC_ROLE': 'server', 'PWD': '/', 'DMLC_NUM_SERVER': '1', 'TRAINING_JOB_ARN': 'arn:aws:sagemaker:us-east-1:844626608976:training-job/pca-2021-02-01-00-58-14-771', 'AWS_EXECUTION_ENV': 'AWS_ECS_EC2'}\u001b[0m\n",
      "\u001b[34m[02/01/2021 01:01:42 INFO 140510342133568] Environment: {'ECS_CONTAINER_METADATA_URI': 'http://169.254.170.2/v3/79e7cd89-5938-43b2-8fac-10067ad40cfb', 'ECS_CONTAINER_METADATA_URI_V4': 'http://169.254.170.2/v4/79e7cd89-5938-43b2-8fac-10067ad40cfb', 'PROTOCOL_BUFFERS_PYTHON_IMPLEMENTATION_VERSION': '2', 'DMLC_PS_ROOT_PORT': '9000', 'DMLC_NUM_WORKER': '1', 'SAGEMAKER_HTTP_PORT': '8080', 'PATH': '/opt/amazon/bin:/usr/local/nvidia/bin:/usr/local/sbin:/usr/local/bin:/usr/sbin:/usr/bin:/sbin:/bin:/opt/amazon/bin:/opt/amazon/bin', 'PYTHONUNBUFFERED': 'TRUE', 'CANONICAL_ENVROOT': '/opt/amazon', 'LD_LIBRARY_PATH': '/opt/amazon/lib/python2.7/site-packages/cv2/../../../../lib:/usr/local/nvidia/lib64:/opt/amazon/lib', 'LANG': 'en_US.utf8', 'DMLC_INTERFACE': 'eth0', 'SHLVL': '1', 'DMLC_PS_ROOT_URI': '10.2.174.77', 'AWS_REGION': 'us-east-1', 'NVIDIA_VISIBLE_DEVICES': 'void', 'TRAINING_JOB_NAME': 'pca-2021-02-01-00-58-14-771', 'HOME': '/root', 'PROTOCOL_BUFFERS_PYTHON_IMPLEMENTATION': 'cpp', 'ENVROOT': '/opt/amazon', 'SAGEMAKER_DATA_PATH': '/opt/ml', 'NVIDIA_DRIVER_CAPABILITIES': 'compute,utility', 'NVIDIA_REQUIRE_CUDA': 'cuda>=9.0', 'OMP_NUM_THREADS': '2', 'HOSTNAME': 'ip-10-2-174-77.ec2.internal', 'AWS_CONTAINER_CREDENTIALS_RELATIVE_URI': '/v2/credentials/5df7316e-1e52-4431-9533-4519b4a2bc18', 'DMLC_ROLE': 'worker', 'PWD': '/', 'DMLC_NUM_SERVER': '1', 'TRAINING_JOB_ARN': 'arn:aws:sagemaker:us-east-1:844626608976:training-job/pca-2021-02-01-00-58-14-771', 'AWS_EXECUTION_ENV': 'AWS_ECS_EC2'}\u001b[0m\n",
      "\u001b[34mProcess 60 is a shell:scheduler.\u001b[0m\n",
      "\u001b[34mProcess 69 is a shell:server.\u001b[0m\n",
      "\u001b[34mProcess 1 is a worker.\u001b[0m\n",
      "\u001b[34m[02/01/2021 01:01:42 INFO 140510342133568] Using default worker.\u001b[0m\n",
      "\u001b[34m[02/01/2021 01:01:42 INFO 140510342133568] Loaded iterator creator application/x-recordio-protobuf for content type ('application/x-recordio-protobuf', '1.0')\u001b[0m\n",
      "\u001b[34m[02/01/2021 01:01:42 INFO 140510342133568] Loaded iterator creator application/x-labeled-vector-protobuf for content type ('application/x-labeled-vector-protobuf', '1.0')\u001b[0m\n",
      "\u001b[34m[02/01/2021 01:01:42 INFO 140510342133568] Loaded iterator creator protobuf for content type ('protobuf', '1.0')\u001b[0m\n",
      "\u001b[34m[02/01/2021 01:01:42 INFO 140510342133568] Checkpoint loading and saving are disabled.\u001b[0m\n",
      "\u001b[34m[02/01/2021 01:01:42 INFO 140510342133568] Create Store: dist_sync\u001b[0m\n",
      "\u001b[34m[02/01/2021 01:01:43 INFO 140510342133568] nvidia-smi took: 0.0251350402832 secs to identify 0 gpus\u001b[0m\n",
      "\u001b[34m[02/01/2021 01:01:43 INFO 140510342133568] Number of GPUs being used: 0\u001b[0m\n",
      "\u001b[34m[02/01/2021 01:01:43 INFO 140510342133568] The default executor is <PCAExecutor on cpu(0)>.\u001b[0m\n",
      "\u001b[34m[02/01/2021 01:01:43 INFO 140510342133568] 20 feature(s) found in 'data'.\u001b[0m\n",
      "\u001b[34m[02/01/2021 01:01:43 INFO 140510342133568] <PCAExecutor on cpu(0)> is assigned to batch slice from 0 to 499.\u001b[0m\n",
      "\u001b[34m#metrics {\"Metrics\": {\"initialize.time\": {\"count\": 1, \"max\": 587.6848697662354, \"sum\": 587.6848697662354, \"min\": 587.6848697662354}}, \"EndTime\": 1612141303.383439, \"Dimensions\": {\"Host\": \"algo-1\", \"Operation\": \"training\", \"Algorithm\": \"PCA\"}, \"StartTime\": 1612141302.784426}\n",
      "\u001b[0m\n",
      "\u001b[34m#metrics {\"Metrics\": {\"Max Batches Seen Between Resets\": {\"count\": 1, \"max\": 0, \"sum\": 0.0, \"min\": 0}, \"Number of Batches Since Last Reset\": {\"count\": 1, \"max\": 0, \"sum\": 0.0, \"min\": 0}, \"Number of Records Since Last Reset\": {\"count\": 1, \"max\": 0, \"sum\": 0.0, \"min\": 0}, \"Total Batches Seen\": {\"count\": 1, \"max\": 0, \"sum\": 0.0, \"min\": 0}, \"Total Records Seen\": {\"count\": 1, \"max\": 0, \"sum\": 0.0, \"min\": 0}, \"Max Records Seen Between Resets\": {\"count\": 1, \"max\": 0, \"sum\": 0.0, \"min\": 0}, \"Reset Count\": {\"count\": 1, \"max\": 0, \"sum\": 0.0, \"min\": 0}}, \"EndTime\": 1612141303.383679, \"Dimensions\": {\"Host\": \"algo-1\", \"Meta\": \"init_train_data_iter\", \"Operation\": \"training\", \"Algorithm\": \"PCA\"}, \"StartTime\": 1612141303.383636}\n",
      "\u001b[0m\n",
      "\u001b[34m[2021-02-01 01:01:43.383] [tensorio] [info] epoch_stats={\"data_pipeline\": \"/opt/ml/input/data/train\", \"epoch\": 0, \"duration\": 598, \"num_examples\": 1, \"num_bytes\": 52000}\u001b[0m\n",
      "\u001b[34m[2021-02-01 01:01:43.423] [tensorio] [info] epoch_stats={\"data_pipeline\": \"/opt/ml/input/data/train\", \"epoch\": 1, \"duration\": 31, \"num_examples\": 2, \"num_bytes\": 76960}\u001b[0m\n",
      "\u001b[34m#metrics {\"Metrics\": {\"epochs\": {\"count\": 1, \"max\": 1, \"sum\": 1.0, \"min\": 1}, \"update.time\": {\"count\": 1, \"max\": 39.62898254394531, \"sum\": 39.62898254394531, \"min\": 39.62898254394531}}, \"EndTime\": 1612141303.423712, \"Dimensions\": {\"Host\": \"algo-1\", \"Operation\": \"training\", \"Algorithm\": \"PCA\"}, \"StartTime\": 1612141303.383536}\n",
      "\u001b[0m\n",
      "\u001b[34m[02/01/2021 01:01:43 INFO 140510342133568] #progress_metric: host=algo-1, completed 100 % of epochs\u001b[0m\n",
      "\u001b[34m#metrics {\"Metrics\": {\"Max Batches Seen Between Resets\": {\"count\": 1, \"max\": 2, \"sum\": 2.0, \"min\": 2}, \"Number of Batches Since Last Reset\": {\"count\": 1, \"max\": 2, \"sum\": 2.0, \"min\": 2}, \"Number of Records Since Last Reset\": {\"count\": 1, \"max\": 740, \"sum\": 740.0, \"min\": 740}, \"Total Batches Seen\": {\"count\": 1, \"max\": 2, \"sum\": 2.0, \"min\": 2}, \"Total Records Seen\": {\"count\": 1, \"max\": 740, \"sum\": 740.0, \"min\": 740}, \"Max Records Seen Between Resets\": {\"count\": 1, \"max\": 740, \"sum\": 740.0, \"min\": 740}, \"Reset Count\": {\"count\": 1, \"max\": 1, \"sum\": 1.0, \"min\": 1}}, \"EndTime\": 1612141303.423981, \"Dimensions\": {\"Host\": \"algo-1\", \"Meta\": \"training_data_iter\", \"Operation\": \"training\", \"Algorithm\": \"PCA\", \"epoch\": 0}, \"StartTime\": 1612141303.384055}\n",
      "\u001b[0m\n",
      "\u001b[34m[02/01/2021 01:01:43 INFO 140510342133568] #throughput_metric: host=algo-1, train throughput=18484.7029676 records/second\u001b[0m\n",
      "\u001b[34m#metrics {\"Metrics\": {\"finalize.time\": {\"count\": 1, \"max\": 16.569852828979492, \"sum\": 16.569852828979492, \"min\": 16.569852828979492}}, \"EndTime\": 1612141303.44082, \"Dimensions\": {\"Host\": \"algo-1\", \"Operation\": \"training\", \"Algorithm\": \"PCA\"}, \"StartTime\": 1612141303.423781}\n",
      "\u001b[0m\n",
      "\u001b[34m[02/01/2021 01:01:43 INFO 140510342133568] Test data is not provided.\u001b[0m\n",
      "\u001b[34m#metrics {\"Metrics\": {\"totaltime\": {\"count\": 1, \"max\": 812.1888637542725, \"sum\": 812.1888637542725, \"min\": 812.1888637542725}, \"setuptime\": {\"count\": 1, \"max\": 18.144845962524414, \"sum\": 18.144845962524414, \"min\": 18.144845962524414}}, \"EndTime\": 1612141303.446985, \"Dimensions\": {\"Host\": \"algo-1\", \"Operation\": \"training\", \"Algorithm\": \"PCA\"}, \"StartTime\": 1612141303.440894}\n",
      "\u001b[0m\n",
      "\n",
      "2021-02-01 01:02:00 Completed - Training job completed\n",
      "Training seconds: 72\n",
      "Billable seconds: 72\n",
      "CPU times: user 436 ms, sys: 32.3 ms, total: 469 ms\n",
      "Wall time: 4min 12s\n"
     ]
    }
   ],
   "source": [
    "%%time\n",
    "pca_SM.fit(pca_SM.record_set(train_data))"
   ]
  },
  {
   "cell_type": "markdown",
   "metadata": {},
   "source": [
    "Obtenemos los artefactos del modelo entrenado utilizando la API de Sagemaker"
   ]
  },
  {
   "cell_type": "code",
   "execution_count": 21,
   "metadata": {},
   "outputs": [
    {
     "name": "stdout",
     "output_type": "stream",
     "text": [
      "Trainin Job Name: pca-2021-02-01-00-58-14-771\n",
      "Model Artifacts in s3://sagemaker-us-east-1-844626608976/aws-machine-learning-specialty/algorithms/k-nn/clustering/absence/pca-2021-02-01-00-58-14-771/output/model.tar.gz\n"
     ]
    }
   ],
   "source": [
    "#el último trainin job debería ser el nuestro\n",
    "\n",
    "tjs = sagemaker_client.list_training_jobs(\n",
    "    NameContains='pca',\n",
    "    SortBy='CreationTime',\n",
    "    SortOrder='Descending')\n",
    "\n",
    "tj_name = tjs['TrainingJobSummaries'][0]['TrainingJobName']\n",
    "print('Trainin Job Name:',tj_name)\n",
    "\n",
    "tj_details = sagemaker_client.describe_training_job(\n",
    "    TrainingJobName=tj_name\n",
    ")\n",
    "tj_model_artifacts = tj_details['ModelArtifacts']['S3ModelArtifacts']\n",
    "print('Model Artifacts in', tj_model_artifacts)"
   ]
  },
  {
   "cell_type": "markdown",
   "metadata": {},
   "source": [
    "Descargamos el modelo entrenado a local"
   ]
  },
  {
   "cell_type": "code",
   "execution_count": 29,
   "metadata": {},
   "outputs": [
    {
     "data": {
      "text/plain": [
       "0"
      ]
     },
     "execution_count": 29,
     "metadata": {},
     "output_type": "execute_result"
    }
   ],
   "source": [
    "file_name = tj_model_artifacts.split('/')[-1]\n",
    "model_key = '/'.join(tj_model_artifacts.split('/')[3:])\n",
    "boto3.resource('s3').Bucket(s3_bucket).download_file(model_key, file_name)\n",
    "os.system('tar -zxvf {}'.format(file_name))"
   ]
  },
  {
   "cell_type": "markdown",
   "metadata": {},
   "source": [
    "Y cargamos el mmodelo usando Mxnet"
   ]
  },
  {
   "cell_type": "code",
   "execution_count": 32,
   "metadata": {},
   "outputs": [],
   "source": [
    "#!pip install mxnet"
   ]
  },
  {
   "cell_type": "code",
   "execution_count": 33,
   "metadata": {},
   "outputs": [],
   "source": [
    "import mxnet as mx\n",
    "pca_model_params = mx.ndarray.load('model_algo-1')"
   ]
  },
  {
   "cell_type": "code",
   "execution_count": 34,
   "metadata": {},
   "outputs": [],
   "source": [
    "# Exact explained-variance-ratio vector\n",
    "s=pd.DataFrame(pca_model_params['s'].asnumpy())\n",
    "v=pd.DataFrame(pca_model_params['v'].asnumpy())"
   ]
  },
  {
   "cell_type": "code",
   "execution_count": 42,
   "metadata": {},
   "outputs": [
    {
     "data": {
      "text/plain": [
       "0    0.622284\n",
       "dtype: float32"
      ]
     },
     "execution_count": 42,
     "metadata": {},
     "output_type": "execute_result"
    }
   ],
   "source": [
    "# Calculate the variance explained by the largest n components that we want to keep. \n",
    "# Take the top 5 components\n",
    "# The largest 5 components explain ~62% of the total variance in our dataset\n",
    "s.iloc[14:,:].apply(lambda x: x*x).sum()/s.apply(lambda x: x*x).sum()"
   ]
  },
  {
   "cell_type": "code",
   "execution_count": 44,
   "metadata": {},
   "outputs": [
    {
     "data": {
      "text/html": [
       "<div>\n",
       "<style scoped>\n",
       "    .dataframe tbody tr th:only-of-type {\n",
       "        vertical-align: middle;\n",
       "    }\n",
       "\n",
       "    .dataframe tbody tr th {\n",
       "        vertical-align: top;\n",
       "    }\n",
       "\n",
       "    .dataframe thead th {\n",
       "        text-align: right;\n",
       "    }\n",
       "</style>\n",
       "<table border=\"1\" class=\"dataframe\">\n",
       "  <thead>\n",
       "    <tr style=\"text-align: right;\">\n",
       "      <th></th>\n",
       "      <th>0</th>\n",
       "      <th>1</th>\n",
       "      <th>2</th>\n",
       "      <th>3</th>\n",
       "      <th>4</th>\n",
       "    </tr>\n",
       "  </thead>\n",
       "  <tbody>\n",
       "    <tr>\n",
       "      <th>0</th>\n",
       "      <td>0.407281</td>\n",
       "      <td>-0.448665</td>\n",
       "      <td>0.193074</td>\n",
       "      <td>0.289915</td>\n",
       "      <td>-0.059501</td>\n",
       "    </tr>\n",
       "    <tr>\n",
       "      <th>1</th>\n",
       "      <td>0.217295</td>\n",
       "      <td>-0.079499</td>\n",
       "      <td>-0.023497</td>\n",
       "      <td>-0.452234</td>\n",
       "      <td>-0.036570</td>\n",
       "    </tr>\n",
       "    <tr>\n",
       "      <th>2</th>\n",
       "      <td>-0.584830</td>\n",
       "      <td>-0.525670</td>\n",
       "      <td>0.547078</td>\n",
       "      <td>-0.047001</td>\n",
       "      <td>-0.035020</td>\n",
       "    </tr>\n",
       "    <tr>\n",
       "      <th>3</th>\n",
       "      <td>0.160280</td>\n",
       "      <td>-0.319543</td>\n",
       "      <td>-0.043324</td>\n",
       "      <td>-0.762302</td>\n",
       "      <td>0.045018</td>\n",
       "    </tr>\n",
       "    <tr>\n",
       "      <th>4</th>\n",
       "      <td>0.098019</td>\n",
       "      <td>0.332768</td>\n",
       "      <td>0.286093</td>\n",
       "      <td>-0.152991</td>\n",
       "      <td>-0.065728</td>\n",
       "    </tr>\n",
       "  </tbody>\n",
       "</table>\n",
       "</div>"
      ],
      "text/plain": [
       "          0         1         2         3         4\n",
       "0  0.407281 -0.448665  0.193074  0.289915 -0.059501\n",
       "1  0.217295 -0.079499 -0.023497 -0.452234 -0.036570\n",
       "2 -0.584830 -0.525670  0.547078 -0.047001 -0.035020\n",
       "3  0.160280 -0.319543 -0.043324 -0.762302  0.045018\n",
       "4  0.098019  0.332768  0.286093 -0.152991 -0.065728"
      ]
     },
     "execution_count": 44,
     "metadata": {},
     "output_type": "execute_result"
    }
   ],
   "source": [
    "# After keeping the top 5 components take only the 5 largest components from original s and v matrix\n",
    "s_5=s.iloc[14:,:]\n",
    "v_5=v.iloc[:,14:]\n",
    "v_5.columns=[0,1,2,3,4]\n",
    "v_5.head()"
   ]
  },
  {
   "cell_type": "markdown",
   "metadata": {},
   "source": [
    "Examinemos la composición de uno de los componentes de PCA basándonos en los pesos de las características originales."
   ]
  },
  {
   "cell_type": "code",
   "execution_count": 45,
   "metadata": {},
   "outputs": [
    {
     "data": {
      "image/png": "[encoded data removed]",
      "text/plain": [
       "<Figure size 432x288 with 1 Axes>"
      ]
     },
     "metadata": {
      "needs_background": "light"
     },
     "output_type": "display_data"
    }
   ],
   "source": [
    "component_num=1\n",
    "first_comp = v_5[5-component_num]\n",
    "comps = pd.DataFrame(list(zip(first_comp, absence_scaled.columns)), columns=['weights', 'features'])\n",
    "comps['abs_weights']=comps['weights'].apply(lambda x: np.abs(x))\n",
    "ax=sns.barplot(data=comps.sort_values('abs_weights', ascending=False).head(10), x=\"weights\", y=\"features\", palette=\"Blues_d\")\n",
    "ax.set_title(\"PCA Component Makeup: #\" + str(component_num))\n",
    "plt.show()"
   ]
  },
  {
   "cell_type": "markdown",
   "metadata": {},
   "source": [
    "#### Despliegue del modelo PCA"
   ]
  },
  {
   "cell_type": "code",
   "execution_count": 46,
   "metadata": {},
   "outputs": [
    {
     "name": "stdout",
     "output_type": "stream",
     "text": [
      "\n",
      "2021-02-01 01:02:41 Starting - Preparing the instances for training\n",
      "2021-02-01 01:02:41 Downloading - Downloading input data\n",
      "2021-02-01 01:02:41 Training - Training image download completed. Training in progress.\n",
      "2021-02-01 01:02:41 Uploading - Uploading generated training model\n",
      "2021-02-01 01:02:41 Completed - Training job completed\n",
      "---------------------!"
     ]
    }
   ],
   "source": [
    "pca_from_job = sagemaker.estimator.Estimator.attach(tj_name,sagemaker_session=sagemaker_session)\n",
    "pca_predictor = pca_from_job.deploy(initial_instance_count=1,instance_type='ml.t2.medium')"
   ]
  },
  {
   "cell_type": "code",
   "execution_count": 59,
   "metadata": {},
   "outputs": [],
   "source": [
    "from sagemaker.deserializers import JSONDeserializer\n",
    "from sagemaker.serializers import CSVSerializer\n",
    "\n",
    "pca_predictor.ContentType = \"text/csv\"\n",
    "pca_predictor.serializer = CSVSerializer()\n",
    "pca_predictor.deserializer = JSONDeserializer()"
   ]
  },
  {
   "cell_type": "markdown",
   "metadata": {},
   "source": [
    "#### Calculamos los components pricipales del dataset"
   ]
  },
  {
   "cell_type": "code",
   "execution_count": 60,
   "metadata": {},
   "outputs": [],
   "source": [
    "result = pca_predictor.predict(train_data)"
   ]
  },
  {
   "cell_type": "code",
   "execution_count": 74,
   "metadata": {},
   "outputs": [],
   "source": [
    "#creamos un listado donde para cada razón se explica la causa en virtud del PCA\n",
    "PCA_list=['Social drinker', 'Distance from Residence to Work', 'Weight', 'Education', 'Body mass index']\n",
    "absence_transformed=pd.DataFrame()\n",
    "for a in result['projections']:\n",
    "    b=a['projection']\n",
    "    absence_transformed=absence_transformed.append([list(b)])\n",
    "absence_transformed.index=absence_scaled.index\n",
    "absence_transformed=absence_transformed.iloc[:,14:]\n",
    "absence_transformed.columns=PCA_list"
   ]
  },
  {
   "cell_type": "code",
   "execution_count": 75,
   "metadata": {},
   "outputs": [
    {
     "data": {
      "text/html": [
       "<div>\n",
       "<style scoped>\n",
       "    .dataframe tbody tr th:only-of-type {\n",
       "        vertical-align: middle;\n",
       "    }\n",
       "\n",
       "    .dataframe tbody tr th {\n",
       "        vertical-align: top;\n",
       "    }\n",
       "\n",
       "    .dataframe thead th {\n",
       "        text-align: right;\n",
       "    }\n",
       "</style>\n",
       "<table border=\"1\" class=\"dataframe\">\n",
       "  <thead>\n",
       "    <tr style=\"text-align: right;\">\n",
       "      <th></th>\n",
       "      <th>Social drinker</th>\n",
       "      <th>Distance from Residence to Work</th>\n",
       "      <th>Weight</th>\n",
       "      <th>Education</th>\n",
       "      <th>Body mass index</th>\n",
       "    </tr>\n",
       "    <tr>\n",
       "      <th>Reason for absence</th>\n",
       "      <th></th>\n",
       "      <th></th>\n",
       "      <th></th>\n",
       "      <th></th>\n",
       "      <th></th>\n",
       "    </tr>\n",
       "  </thead>\n",
       "  <tbody>\n",
       "    <tr>\n",
       "      <th>26</th>\n",
       "      <td>0.220163</td>\n",
       "      <td>0.277262</td>\n",
       "      <td>0.023891</td>\n",
       "      <td>0.416488</td>\n",
       "      <td>-0.574165</td>\n",
       "    </tr>\n",
       "    <tr>\n",
       "      <th>0</th>\n",
       "      <td>-0.813139</td>\n",
       "      <td>0.473745</td>\n",
       "      <td>-0.941796</td>\n",
       "      <td>0.071819</td>\n",
       "      <td>-0.446411</td>\n",
       "    </tr>\n",
       "    <tr>\n",
       "      <th>23</th>\n",
       "      <td>0.119235</td>\n",
       "      <td>-0.130268</td>\n",
       "      <td>-0.052720</td>\n",
       "      <td>0.539152</td>\n",
       "      <td>-0.643213</td>\n",
       "    </tr>\n",
       "    <tr>\n",
       "      <th>7</th>\n",
       "      <td>-0.839607</td>\n",
       "      <td>0.590692</td>\n",
       "      <td>0.207264</td>\n",
       "      <td>0.134280</td>\n",
       "      <td>-0.147293</td>\n",
       "    </tr>\n",
       "    <tr>\n",
       "      <th>23</th>\n",
       "      <td>-0.115692</td>\n",
       "      <td>0.061643</td>\n",
       "      <td>0.277216</td>\n",
       "      <td>0.362107</td>\n",
       "      <td>-0.585175</td>\n",
       "    </tr>\n",
       "  </tbody>\n",
       "</table>\n",
       "</div>"
      ],
      "text/plain": [
       "                    Social drinker  Distance from Residence to Work    Weight  \\\n",
       "Reason for absence                                                              \n",
       "26                        0.220163                         0.277262  0.023891   \n",
       "0                        -0.813139                         0.473745 -0.941796   \n",
       "23                        0.119235                        -0.130268 -0.052720   \n",
       "7                        -0.839607                         0.590692  0.207264   \n",
       "23                       -0.115692                         0.061643  0.277216   \n",
       "\n",
       "                    Education  Body mass index  \n",
       "Reason for absence                              \n",
       "26                   0.416488        -0.574165  \n",
       "0                    0.071819        -0.446411  \n",
       "23                   0.539152        -0.643213  \n",
       "7                    0.134280        -0.147293  \n",
       "23                   0.362107        -0.585175  "
      ]
     },
     "execution_count": 75,
     "metadata": {},
     "output_type": "execute_result"
    }
   ],
   "source": [
    "absence_transformed.head()"
   ]
  },
  {
   "cell_type": "markdown",
   "metadata": {},
   "source": [
    "Para el proximo paso utilizamos los top 5 componentes como la data de entrenamiento."
   ]
  },
  {
   "cell_type": "code",
   "execution_count": 76,
   "metadata": {},
   "outputs": [],
   "source": [
    "train_data = absence_transformed.values.astype('float32')"
   ]
  },
  {
   "cell_type": "markdown",
   "metadata": {},
   "source": [
    "#### K-Means Clustering"
   ]
  },
  {
   "cell_type": "code",
   "execution_count": 79,
   "metadata": {},
   "outputs": [],
   "source": [
    "# Econtraremos los top 7 cluster del dataset\n",
    "from sagemaker import KMeans\n",
    "\n",
    "kmeans_output = 's3://{}/{}/absence/'.format(s3_bucket, s3_prefix)\n",
    "num_clusters = 7\n",
    "\n",
    "kmeans = KMeans(role=role,\n",
    "                instance_count=1,\n",
    "                instance_type='ml.c4.xlarge',\n",
    "                output_path=kmeans_output,              \n",
    "                k=num_clusters)"
   ]
  },
  {
   "cell_type": "code",
   "execution_count": 80,
   "metadata": {
    "scrolled": true
   },
   "outputs": [
    {
     "name": "stderr",
     "output_type": "stream",
     "text": [
      "Defaulting to the only supported framework/algorithm version: 1. Ignoring framework/algorithm version: 1.\n",
      "Defaulting to the only supported framework/algorithm version: 1. Ignoring framework/algorithm version: 1.\n"
     ]
    },
    {
     "name": "stdout",
     "output_type": "stream",
     "text": [
      "2021-02-01 02:30:33 Starting - Starting the training job...\n",
      "2021-02-01 02:30:56 Starting - Launching requested ML instancesProfilerReport-1612146633: InProgress\n",
      ".........\n",
      "2021-02-01 02:32:17 Starting - Preparing the instances for training...\n",
      "2021-02-01 02:32:58 Downloading - Downloading input data\n",
      "2021-02-01 02:32:58 Training - Downloading the training image......\n",
      "2021-02-01 02:34:00 Uploading - Uploading generated training model\u001b[34mDocker entrypoint called with argument(s): train\u001b[0m\n",
      "\u001b[34mRunning default environment configuration script\u001b[0m\n",
      "\u001b[34m[02/01/2021 02:33:57 INFO 140299538753344] Reading default configuration from /opt/amazon/lib/python2.7/site-packages/algorithm/resources/default-input.json: {u'_enable_profiler': u'false', u'_tuning_objective_metric': u'', u'_num_gpus': u'auto', u'local_lloyd_num_trials': u'auto', u'_log_level': u'info', u'_kvstore': u'auto', u'local_lloyd_init_method': u'kmeans++', u'force_dense': u'true', u'epochs': u'1', u'init_method': u'random', u'local_lloyd_tol': u'0.0001', u'local_lloyd_max_iter': u'300', u'_disable_wait_to_read': u'false', u'extra_center_factor': u'auto', u'eval_metrics': u'[\"msd\"]', u'_num_kv_servers': u'1', u'mini_batch_size': u'5000', u'half_life_time_size': u'0', u'_num_slices': u'1'}\u001b[0m\n",
      "\u001b[34m[02/01/2021 02:33:57 INFO 140299538753344] Reading provided configuration from /opt/ml/input/config/hyperparameters.json: {u'feature_dim': u'5', u'k': u'7', u'force_dense': u'True'}\u001b[0m\n",
      "\u001b[34m[02/01/2021 02:33:57 INFO 140299538753344] Final configuration: {u'_tuning_objective_metric': u'', u'extra_center_factor': u'auto', u'local_lloyd_init_method': u'kmeans++', u'force_dense': u'True', u'epochs': u'1', u'feature_dim': u'5', u'local_lloyd_tol': u'0.0001', u'_disable_wait_to_read': u'false', u'eval_metrics': u'[\"msd\"]', u'_num_kv_servers': u'1', u'mini_batch_size': u'5000', u'_enable_profiler': u'false', u'_num_gpus': u'auto', u'local_lloyd_num_trials': u'auto', u'_log_level': u'info', u'init_method': u'random', u'half_life_time_size': u'0', u'local_lloyd_max_iter': u'300', u'_kvstore': u'auto', u'k': u'7', u'_num_slices': u'1'}\u001b[0m\n",
      "\u001b[34m[02/01/2021 02:33:57 WARNING 140299538753344] Loggers have already been setup.\u001b[0m\n",
      "\u001b[34mProcess 1 is a worker.\u001b[0m\n",
      "\u001b[34m[02/01/2021 02:33:57 INFO 140299538753344] Using default worker.\u001b[0m\n",
      "\u001b[34m[02/01/2021 02:33:57 INFO 140299538753344] Loaded iterator creator application/x-recordio-protobuf for content type ('application/x-recordio-protobuf', '1.0')\u001b[0m\n",
      "\u001b[34m[02/01/2021 02:33:57 INFO 140299538753344] Create Store: local\u001b[0m\n",
      "\u001b[34m[02/01/2021 02:33:57 INFO 140299538753344] nvidia-smi took: 0.0252618789673 secs to identify 0 gpus\u001b[0m\n",
      "\u001b[34m[02/01/2021 02:33:57 INFO 140299538753344] Number of GPUs being used: 0\u001b[0m\n",
      "\u001b[34m[02/01/2021 02:33:57 INFO 140299538753344] Setting up with params: {u'_tuning_objective_metric': u'', u'extra_center_factor': u'auto', u'local_lloyd_init_method': u'kmeans++', u'force_dense': u'True', u'epochs': u'1', u'feature_dim': u'5', u'local_lloyd_tol': u'0.0001', u'_disable_wait_to_read': u'false', u'eval_metrics': u'[\"msd\"]', u'_num_kv_servers': u'1', u'mini_batch_size': u'5000', u'_enable_profiler': u'false', u'_num_gpus': u'auto', u'local_lloyd_num_trials': u'auto', u'_log_level': u'info', u'init_method': u'random', u'half_life_time_size': u'0', u'local_lloyd_max_iter': u'300', u'_kvstore': u'auto', u'k': u'7', u'_num_slices': u'1'}\u001b[0m\n",
      "\u001b[34m[02/01/2021 02:33:57 INFO 140299538753344] 'extra_center_factor' was set to 'auto', evaluated to 10.\u001b[0m\n",
      "\u001b[34m[02/01/2021 02:33:57 INFO 140299538753344] Number of GPUs being used: 0\u001b[0m\n",
      "\u001b[34m[02/01/2021 02:33:57 INFO 140299538753344] number of center slices 1\u001b[0m\n",
      "\u001b[34m[02/01/2021 02:33:57 WARNING 140299538753344] Batch size 5000 is bigger than the first batch data. Effective batch size used to initialize is 740\u001b[0m\n",
      "\u001b[34m#metrics {\"Metrics\": {\"Max Batches Seen Between Resets\": {\"count\": 1, \"max\": 1, \"sum\": 1.0, \"min\": 1}, \"Number of Batches Since Last Reset\": {\"count\": 1, \"max\": 1, \"sum\": 1.0, \"min\": 1}, \"Number of Records Since Last Reset\": {\"count\": 1, \"max\": 740, \"sum\": 740.0, \"min\": 740}, \"Total Batches Seen\": {\"count\": 1, \"max\": 1, \"sum\": 1.0, \"min\": 1}, \"Total Records Seen\": {\"count\": 1, \"max\": 740, \"sum\": 740.0, \"min\": 740}, \"Max Records Seen Between Resets\": {\"count\": 1, \"max\": 740, \"sum\": 740.0, \"min\": 740}, \"Reset Count\": {\"count\": 1, \"max\": 0, \"sum\": 0.0, \"min\": 0}}, \"EndTime\": 1612146837.732514, \"Dimensions\": {\"Host\": \"algo-1\", \"Meta\": \"init_train_data_iter\", \"Operation\": \"training\", \"Algorithm\": \"AWS/KMeansWebscale\"}, \"StartTime\": 1612146837.732482}\n",
      "\u001b[0m\n",
      "\u001b[34m[2021-02-01 02:33:57.732] [tensorio] [info] epoch_stats={\"data_pipeline\": \"/opt/ml/input/data/train\", \"epoch\": 0, \"duration\": 33, \"num_examples\": 1, \"num_bytes\": 32560}\u001b[0m\n",
      "\u001b[34m[2021-02-01 02:33:57.776] [tensorio] [info] epoch_stats={\"data_pipeline\": \"/opt/ml/input/data/train\", \"epoch\": 1, \"duration\": 42, \"num_examples\": 1, \"num_bytes\": 32560}\u001b[0m\n",
      "\u001b[34m[02/01/2021 02:33:57 INFO 140299538753344] processed a total of 740 examples\u001b[0m\n",
      "\u001b[34m[02/01/2021 02:33:57 INFO 140299538753344] #progress_metric: host=algo-1, completed 100 % of epochs\u001b[0m\n",
      "\u001b[34m#metrics {\"Metrics\": {\"Max Batches Seen Between Resets\": {\"count\": 1, \"max\": 1, \"sum\": 1.0, \"min\": 1}, \"Number of Batches Since Last Reset\": {\"count\": 1, \"max\": 1, \"sum\": 1.0, \"min\": 1}, \"Number of Records Since Last Reset\": {\"count\": 1, \"max\": 740, \"sum\": 740.0, \"min\": 740}, \"Total Batches Seen\": {\"count\": 1, \"max\": 2, \"sum\": 2.0, \"min\": 2}, \"Total Records Seen\": {\"count\": 1, \"max\": 1480, \"sum\": 1480.0, \"min\": 1480}, \"Max Records Seen Between Resets\": {\"count\": 1, \"max\": 740, \"sum\": 740.0, \"min\": 740}, \"Reset Count\": {\"count\": 1, \"max\": 1, \"sum\": 1.0, \"min\": 1}}, \"EndTime\": 1612146837.7769, \"Dimensions\": {\"Host\": \"algo-1\", \"Meta\": \"training_data_iter\", \"Operation\": \"training\", \"Algorithm\": \"AWS/KMeansWebscale\", \"epoch\": 0}, \"StartTime\": 1612146837.732766}\n",
      "\u001b[0m\n",
      "\u001b[34m[02/01/2021 02:33:57 INFO 140299538753344] #throughput_metric: host=algo-1, train throughput=16716.7645649 records/second\u001b[0m\n",
      "\u001b[34m[02/01/2021 02:33:57 WARNING 140299538753344] wait_for_all_workers will not sync workers since the kv store is not running distributed\u001b[0m\n",
      "\u001b[34m[02/01/2021 02:33:57 INFO 140299538753344] shrinking 70 centers into 7\u001b[0m\n",
      "\u001b[34m[02/01/2021 02:33:57 INFO 140299538753344] local kmeans attempt #0. Current mean square distance 0.261059\u001b[0m\n",
      "\u001b[34m[02/01/2021 02:33:57 INFO 140299538753344] local kmeans attempt #1. Current mean square distance 0.297666\u001b[0m\n",
      "\u001b[34m[02/01/2021 02:33:57 INFO 140299538753344] local kmeans attempt #2. Current mean square distance 0.267068\u001b[0m\n",
      "\u001b[34m[02/01/2021 02:33:57 INFO 140299538753344] local kmeans attempt #3. Current mean square distance 0.252789\u001b[0m\n",
      "\u001b[34m[02/01/2021 02:33:57 INFO 140299538753344] local kmeans attempt #4. Current mean square distance 0.271769\u001b[0m\n",
      "\u001b[34m[02/01/2021 02:33:57 INFO 140299538753344] local kmeans attempt #5. Current mean square distance 0.261171\u001b[0m\n",
      "\u001b[34m[02/01/2021 02:33:57 INFO 140299538753344] local kmeans attempt #6. Current mean square distance 0.250348\u001b[0m\n",
      "\u001b[34m[02/01/2021 02:33:58 INFO 140299538753344] local kmeans attempt #7. Current mean square distance 0.268859\u001b[0m\n",
      "\u001b[34m[02/01/2021 02:33:58 INFO 140299538753344] local kmeans attempt #8. Current mean square distance 0.278662\u001b[0m\n",
      "\u001b[34m[02/01/2021 02:33:58 INFO 140299538753344] local kmeans attempt #9. Current mean square distance 0.258354\u001b[0m\n",
      "\u001b[34m[02/01/2021 02:33:58 INFO 140299538753344] finished shrinking process. Mean Square Distance = 0\u001b[0m\n",
      "\u001b[34m[02/01/2021 02:33:58 INFO 140299538753344] #quality_metric: host=algo-1, train msd <loss>=0.250347793102\u001b[0m\n",
      "\u001b[34m[02/01/2021 02:33:58 INFO 140299538753344] compute all data-center distances: inner product took: 37.4909%, (0.018842 secs)\u001b[0m\n",
      "\u001b[34m[02/01/2021 02:33:58 INFO 140299538753344] collect from kv store took: 14.0160%, (0.007044 secs)\u001b[0m\n",
      "\u001b[34m[02/01/2021 02:33:58 INFO 140299538753344] splitting centers key-value pair took: 13.8348%, (0.006953 secs)\u001b[0m\n",
      "\u001b[34m[02/01/2021 02:33:58 INFO 140299538753344] compute all data-center distances: point norm took: 9.0676%, (0.004557 secs)\u001b[0m\n",
      "\u001b[34m[02/01/2021 02:33:58 INFO 140299538753344] gradient: cluster center took: 7.1235%, (0.003580 secs)\u001b[0m\n",
      "\u001b[34m[02/01/2021 02:33:58 INFO 140299538753344] gradient: one_hot took: 7.0737%, (0.003555 secs)\u001b[0m\n",
      "\u001b[34m[02/01/2021 02:33:58 INFO 140299538753344] predict compute msd took: 4.6899%, (0.002357 secs)\u001b[0m\n",
      "\u001b[34m[02/01/2021 02:33:58 INFO 140299538753344] batch data loading with context took: 3.8004%, (0.001910 secs)\u001b[0m\n",
      "\u001b[34m[02/01/2021 02:33:58 INFO 140299538753344] gradient: cluster size  took: 1.0446%, (0.000525 secs)\u001b[0m\n",
      "\u001b[34m[02/01/2021 02:33:58 INFO 140299538753344] update state and report convergance took: 1.0370%, (0.000521 secs)\u001b[0m\n",
      "\u001b[34m[02/01/2021 02:33:58 INFO 140299538753344] update set-up time took: 0.4597%, (0.000231 secs)\u001b[0m\n",
      "\u001b[34m[02/01/2021 02:33:58 INFO 140299538753344] compute all data-center distances: center norm took: 0.2946%, (0.000148 secs)\u001b[0m\n",
      "\u001b[34m[02/01/2021 02:33:58 INFO 140299538753344] predict minus dist took: 0.0674%, (0.000034 secs)\u001b[0m\n",
      "\u001b[34m[02/01/2021 02:33:58 INFO 140299538753344] TOTAL took: 0.0502574443817\u001b[0m\n",
      "\u001b[34m[02/01/2021 02:33:58 INFO 140299538753344] Number of GPUs being used: 0\u001b[0m\n",
      "\u001b[34m#metrics {\"Metrics\": {\"finalize.time\": {\"count\": 1, \"max\": 306.54191970825195, \"sum\": 306.54191970825195, \"min\": 306.54191970825195}, \"initialize.time\": {\"count\": 1, \"max\": 31.367063522338867, \"sum\": 31.367063522338867, \"min\": 31.367063522338867}, \"model.serialize.time\": {\"count\": 1, \"max\": 0.13494491577148438, \"sum\": 0.13494491577148438, \"min\": 0.13494491577148438}, \"update.time\": {\"count\": 1, \"max\": 43.92099380493164, \"sum\": 43.92099380493164, \"min\": 43.92099380493164}, \"epochs\": {\"count\": 1, \"max\": 1, \"sum\": 1.0, \"min\": 1}, \"state.serialize.time\": {\"count\": 1, \"max\": 1.4529228210449219, \"sum\": 1.4529228210449219, \"min\": 1.4529228210449219}, \"_shrink.time\": {\"count\": 1, \"max\": 305.0999641418457, \"sum\": 305.0999641418457, \"min\": 305.0999641418457}}, \"EndTime\": 1612146838.085538, \"Dimensions\": {\"Host\": \"algo-1\", \"Operation\": \"training\", \"Algorithm\": \"AWS/KMeansWebscale\"}, \"StartTime\": 1612146837.69795}\n",
      "\u001b[0m\n",
      "\u001b[34m[02/01/2021 02:33:58 INFO 140299538753344] Test data is not provided.\u001b[0m\n",
      "\u001b[34m#metrics {\"Metrics\": {\"totaltime\": {\"count\": 1, \"max\": 460.3240489959717, \"sum\": 460.3240489959717, \"min\": 460.3240489959717}, \"setuptime\": {\"count\": 1, \"max\": 18.084049224853516, \"sum\": 18.084049224853516, \"min\": 18.084049224853516}}, \"EndTime\": 1612146838.085923, \"Dimensions\": {\"Host\": \"algo-1\", \"Operation\": \"training\", \"Algorithm\": \"AWS/KMeansWebscale\"}, \"StartTime\": 1612146838.085661}\n",
      "\u001b[0m\n",
      "\n",
      "2021-02-01 02:34:19 Completed - Training job completed\n",
      "Training seconds: 79\n",
      "Billable seconds: 79\n"
     ]
    }
   ],
   "source": [
    "kmeans.fit(kmeans.record_set(train_data))"
   ]
  },
  {
   "cell_type": "markdown",
   "metadata": {},
   "source": [
    "#### Desplegamos el modelo entrenado para inferencias"
   ]
  },
  {
   "cell_type": "code",
   "execution_count": 81,
   "metadata": {},
   "outputs": [
    {
     "name": "stderr",
     "output_type": "stream",
     "text": [
      "Defaulting to the only supported framework/algorithm version: 1. Ignoring framework/algorithm version: 1.\n"
     ]
    },
    {
     "name": "stdout",
     "output_type": "stream",
     "text": [
      "-----------------!"
     ]
    }
   ],
   "source": [
    "kmeans_predictor = kmeans.deploy(initial_instance_count=1, instance_type='ml.t2.medium')"
   ]
  },
  {
   "cell_type": "markdown",
   "metadata": {},
   "source": [
    "#### Realizamos la predicción de los clusteres"
   ]
  },
  {
   "cell_type": "code",
   "execution_count": 82,
   "metadata": {},
   "outputs": [],
   "source": [
    "result=kmeans_predictor.predict(train_data)"
   ]
  },
  {
   "cell_type": "code",
   "execution_count": 84,
   "metadata": {},
   "outputs": [],
   "source": [
    "cluster_labels = [r.label['closest_cluster'].float32_tensor.values[0] for r in result]"
   ]
  },
  {
   "cell_type": "code",
   "execution_count": 85,
   "metadata": {},
   "outputs": [
    {
     "data": {
      "text/plain": [
       "5.0    131\n",
       "2.0    130\n",
       "0.0    129\n",
       "3.0     96\n",
       "1.0     93\n",
       "4.0     92\n",
       "6.0     69\n",
       "Name: 0, dtype: int64"
      ]
     },
     "execution_count": 85,
     "metadata": {},
     "output_type": "execute_result"
    }
   ],
   "source": [
    "pd.DataFrame(cluster_labels)[0].value_counts()"
   ]
  },
  {
   "cell_type": "code",
   "execution_count": 93,
   "metadata": {},
   "outputs": [
    {
     "data": {
      "image/png": "[encoded data removed]",
      "text/plain": [
       "<Figure size 432x216 with 1 Axes>"
      ]
     },
     "metadata": {
      "needs_background": "light"
     },
     "output_type": "display_data"
    }
   ],
   "source": [
    "fig, ax=plt.subplots(figsize=(6,3))\n",
    "ax.hist(cluster_labels, density=True)\n",
    "ax.set_title(\"Histogram of Cluster Counts\", fontsize=12);"
   ]
  },
  {
   "cell_type": "code",
   "execution_count": 94,
   "metadata": {},
   "outputs": [
    {
     "name": "stdout",
     "output_type": "stream",
     "text": [
      "Trainin Job Name: kmeans-2021-02-01-02-30-33-324\n",
      "Model Artifacts in s3://sagemaker-us-east-1-844626608976/aws-machine-learning-specialty/algorithms/k-nn/clustering/absence/kmeans-2021-02-01-02-30-33-324/output/model.tar.gz\n"
     ]
    }
   ],
   "source": [
    "#el último trainin job debería ser el nuestro\n",
    "\n",
    "tjs = sagemaker_client.list_training_jobs(\n",
    "    SortBy='CreationTime',\n",
    "    SortOrder='Descending')\n",
    "\n",
    "tj_name = tjs['TrainingJobSummaries'][0]['TrainingJobName']\n",
    "print('Trainin Job Name:',tj_name)\n",
    "\n",
    "tj_details = sagemaker_client.describe_training_job(\n",
    "    TrainingJobName=tj_name\n",
    ")\n",
    "tj_model_artifacts = tj_details['ModelArtifacts']['S3ModelArtifacts']\n",
    "print('Model Artifacts in', tj_model_artifacts)"
   ]
  },
  {
   "cell_type": "code",
   "execution_count": 95,
   "metadata": {},
   "outputs": [
    {
     "data": {
      "text/plain": [
       "0"
      ]
     },
     "execution_count": 95,
     "metadata": {},
     "output_type": "execute_result"
    }
   ],
   "source": [
    "# Access the underlying model to get the cluster centers\n",
    "# Centers will help describe which features characterize each cluster\n",
    "# First retrieve the K-Means model attributes\n",
    "file_name = tj_model_artifacts.split('/')[-1]\n",
    "model_key = '/'.join(tj_model_artifacts.split('/')[3:])\n",
    "\n",
    "boto3.resource('s3').Bucket(s3_bucket).download_file(model_key, file_name)\n",
    "os.system('tar -zxvf {}'.format(file_name))"
   ]
  },
  {
   "cell_type": "code",
   "execution_count": 96,
   "metadata": {},
   "outputs": [],
   "source": [
    "Kmeans_model_params = mx.ndarray.load('model_algo-1')"
   ]
  },
  {
   "cell_type": "code",
   "execution_count": 97,
   "metadata": {},
   "outputs": [
    {
     "data": {
      "text/html": [
       "<div>\n",
       "<style scoped>\n",
       "    .dataframe tbody tr th:only-of-type {\n",
       "        vertical-align: middle;\n",
       "    }\n",
       "\n",
       "    .dataframe tbody tr th {\n",
       "        vertical-align: top;\n",
       "    }\n",
       "\n",
       "    .dataframe thead th {\n",
       "        text-align: right;\n",
       "    }\n",
       "</style>\n",
       "<table border=\"1\" class=\"dataframe\">\n",
       "  <thead>\n",
       "    <tr style=\"text-align: right;\">\n",
       "      <th></th>\n",
       "      <th>Social drinker</th>\n",
       "      <th>Distance from Residence to Work</th>\n",
       "      <th>Weight</th>\n",
       "      <th>Education</th>\n",
       "      <th>Body mass index</th>\n",
       "    </tr>\n",
       "  </thead>\n",
       "  <tbody>\n",
       "    <tr>\n",
       "      <th>0</th>\n",
       "      <td>0.021989</td>\n",
       "      <td>0.251883</td>\n",
       "      <td>0.291805</td>\n",
       "      <td>0.118640</td>\n",
       "      <td>-0.455986</td>\n",
       "    </tr>\n",
       "    <tr>\n",
       "      <th>1</th>\n",
       "      <td>-0.027010</td>\n",
       "      <td>-0.136308</td>\n",
       "      <td>0.369848</td>\n",
       "      <td>0.268204</td>\n",
       "      <td>0.710736</td>\n",
       "    </tr>\n",
       "    <tr>\n",
       "      <th>2</th>\n",
       "      <td>0.063673</td>\n",
       "      <td>-0.145580</td>\n",
       "      <td>-0.136259</td>\n",
       "      <td>0.352843</td>\n",
       "      <td>-0.541232</td>\n",
       "    </tr>\n",
       "    <tr>\n",
       "      <th>3</th>\n",
       "      <td>0.183944</td>\n",
       "      <td>-0.152292</td>\n",
       "      <td>0.090549</td>\n",
       "      <td>-0.578525</td>\n",
       "      <td>-0.486041</td>\n",
       "    </tr>\n",
       "    <tr>\n",
       "      <th>4</th>\n",
       "      <td>0.121548</td>\n",
       "      <td>-0.180080</td>\n",
       "      <td>-0.088314</td>\n",
       "      <td>-0.516510</td>\n",
       "      <td>0.606680</td>\n",
       "    </tr>\n",
       "    <tr>\n",
       "      <th>5</th>\n",
       "      <td>-0.005665</td>\n",
       "      <td>0.118407</td>\n",
       "      <td>-0.163495</td>\n",
       "      <td>0.253738</td>\n",
       "      <td>0.586104</td>\n",
       "    </tr>\n",
       "    <tr>\n",
       "      <th>6</th>\n",
       "      <td>-0.522696</td>\n",
       "      <td>0.148271</td>\n",
       "      <td>-0.395738</td>\n",
       "      <td>-0.131416</td>\n",
       "      <td>-0.314201</td>\n",
       "    </tr>\n",
       "  </tbody>\n",
       "</table>\n",
       "</div>"
      ],
      "text/plain": [
       "   Social drinker  Distance from Residence to Work    Weight  Education  \\\n",
       "0        0.021989                         0.251883  0.291805   0.118640   \n",
       "1       -0.027010                        -0.136308  0.369848   0.268204   \n",
       "2        0.063673                        -0.145580 -0.136259   0.352843   \n",
       "3        0.183944                        -0.152292  0.090549  -0.578525   \n",
       "4        0.121548                        -0.180080 -0.088314  -0.516510   \n",
       "5       -0.005665                         0.118407 -0.163495   0.253738   \n",
       "6       -0.522696                         0.148271 -0.395738  -0.131416   \n",
       "\n",
       "   Body mass index  \n",
       "0        -0.455986  \n",
       "1         0.710736  \n",
       "2        -0.541232  \n",
       "3        -0.486041  \n",
       "4         0.606680  \n",
       "5         0.586104  \n",
       "6        -0.314201  "
      ]
     },
     "execution_count": 97,
     "metadata": {},
     "output_type": "execute_result"
    }
   ],
   "source": [
    "# Cluster Centroid Locations: The location of the centers of each cluster identified by the Kmeans algorithm\n",
    "cluster_centroids=pd.DataFrame(Kmeans_model_params[0].asnumpy())\n",
    "cluster_centroids.columns=absence_transformed.columns\n",
    "cluster_centroids"
   ]
  },
  {
   "cell_type": "code",
   "execution_count": 98,
   "metadata": {},
   "outputs": [
    {
     "data": {
      "image/png": "[encoded data removed]",
      "text/plain": [
       "<Figure size 1152x432 with 2 Axes>"
      ]
     },
     "metadata": {
      "needs_background": "light"
     },
     "output_type": "display_data"
    }
   ],
   "source": [
    "# Plot a heatmap of the centroids and their location in the transformed feature space\n",
    "plt.figure(figsize = (16, 6))\n",
    "ax = sns.heatmap(cluster_centroids.T, cmap = 'YlGnBu')\n",
    "ax.set_xlabel(\"Cluster\")\n",
    "plt.yticks(fontsize = 16)\n",
    "plt.xticks(fontsize = 16)\n",
    "ax.set_title(\"Attribute Value by Centroid\")\n",
    "plt.show()"
   ]
  },
  {
   "cell_type": "code",
   "execution_count": 99,
   "metadata": {},
   "outputs": [
    {
     "data": {
      "text/html": [
       "<div>\n",
       "<style scoped>\n",
       "    .dataframe tbody tr th:only-of-type {\n",
       "        vertical-align: middle;\n",
       "    }\n",
       "\n",
       "    .dataframe tbody tr th {\n",
       "        vertical-align: top;\n",
       "    }\n",
       "\n",
       "    .dataframe thead th {\n",
       "        text-align: right;\n",
       "    }\n",
       "</style>\n",
       "<table border=\"1\" class=\"dataframe\">\n",
       "  <thead>\n",
       "    <tr style=\"text-align: right;\">\n",
       "      <th></th>\n",
       "      <th>Social drinker</th>\n",
       "      <th>Distance from Residence to Work</th>\n",
       "      <th>Weight</th>\n",
       "      <th>Education</th>\n",
       "      <th>Body mass index</th>\n",
       "      <th>labels</th>\n",
       "    </tr>\n",
       "    <tr>\n",
       "      <th>Reason for absence</th>\n",
       "      <th></th>\n",
       "      <th></th>\n",
       "      <th></th>\n",
       "      <th></th>\n",
       "      <th></th>\n",
       "      <th></th>\n",
       "    </tr>\n",
       "  </thead>\n",
       "  <tbody>\n",
       "    <tr>\n",
       "      <th>26</th>\n",
       "      <td>0.220163</td>\n",
       "      <td>0.277262</td>\n",
       "      <td>0.023891</td>\n",
       "      <td>0.416488</td>\n",
       "      <td>-0.574165</td>\n",
       "      <td>0</td>\n",
       "    </tr>\n",
       "    <tr>\n",
       "      <th>0</th>\n",
       "      <td>-0.813139</td>\n",
       "      <td>0.473745</td>\n",
       "      <td>-0.941796</td>\n",
       "      <td>0.071819</td>\n",
       "      <td>-0.446411</td>\n",
       "      <td>6</td>\n",
       "    </tr>\n",
       "    <tr>\n",
       "      <th>23</th>\n",
       "      <td>0.119235</td>\n",
       "      <td>-0.130268</td>\n",
       "      <td>-0.052720</td>\n",
       "      <td>0.539152</td>\n",
       "      <td>-0.643213</td>\n",
       "      <td>2</td>\n",
       "    </tr>\n",
       "    <tr>\n",
       "      <th>7</th>\n",
       "      <td>-0.839607</td>\n",
       "      <td>0.590692</td>\n",
       "      <td>0.207264</td>\n",
       "      <td>0.134280</td>\n",
       "      <td>-0.147293</td>\n",
       "      <td>6</td>\n",
       "    </tr>\n",
       "    <tr>\n",
       "      <th>23</th>\n",
       "      <td>-0.115692</td>\n",
       "      <td>0.061643</td>\n",
       "      <td>0.277216</td>\n",
       "      <td>0.362107</td>\n",
       "      <td>-0.585175</td>\n",
       "      <td>0</td>\n",
       "    </tr>\n",
       "  </tbody>\n",
       "</table>\n",
       "</div>"
      ],
      "text/plain": [
       "                    Social drinker  Distance from Residence to Work    Weight  \\\n",
       "Reason for absence                                                              \n",
       "26                        0.220163                         0.277262  0.023891   \n",
       "0                        -0.813139                         0.473745 -0.941796   \n",
       "23                        0.119235                        -0.130268 -0.052720   \n",
       "7                        -0.839607                         0.590692  0.207264   \n",
       "23                       -0.115692                         0.061643  0.277216   \n",
       "\n",
       "                    Education  Body mass index  labels  \n",
       "Reason for absence                                      \n",
       "26                   0.416488        -0.574165       0  \n",
       "0                    0.071819        -0.446411       6  \n",
       "23                   0.539152        -0.643213       2  \n",
       "7                    0.134280        -0.147293       6  \n",
       "23                   0.362107        -0.585175       0  "
      ]
     },
     "execution_count": 99,
     "metadata": {},
     "output_type": "execute_result"
    }
   ],
   "source": [
    "# Map the cluster labels back to each individual absenteeism and examine which were naturally grouped together\n",
    "absence_transformed['labels']=list(map(int, cluster_labels))\n",
    "absence_transformed.head()"
   ]
  },
  {
   "cell_type": "code",
   "execution_count": 100,
   "metadata": {},
   "outputs": [
    {
     "data": {
      "text/html": [
       "<div>\n",
       "<style scoped>\n",
       "    .dataframe tbody tr th:only-of-type {\n",
       "        vertical-align: middle;\n",
       "    }\n",
       "\n",
       "    .dataframe tbody tr th {\n",
       "        vertical-align: top;\n",
       "    }\n",
       "\n",
       "    .dataframe thead th {\n",
       "        text-align: right;\n",
       "    }\n",
       "</style>\n",
       "<table border=\"1\" class=\"dataframe\">\n",
       "  <thead>\n",
       "    <tr style=\"text-align: right;\">\n",
       "      <th></th>\n",
       "      <th>Social drinker</th>\n",
       "      <th>Distance from Residence to Work</th>\n",
       "      <th>Weight</th>\n",
       "      <th>Education</th>\n",
       "      <th>Body mass index</th>\n",
       "      <th>labels</th>\n",
       "    </tr>\n",
       "    <tr>\n",
       "      <th>Reason for absence</th>\n",
       "      <th></th>\n",
       "      <th></th>\n",
       "      <th></th>\n",
       "      <th></th>\n",
       "      <th></th>\n",
       "      <th></th>\n",
       "    </tr>\n",
       "  </thead>\n",
       "  <tbody>\n",
       "    <tr>\n",
       "      <th>11</th>\n",
       "      <td>-0.243330</td>\n",
       "      <td>0.173077</td>\n",
       "      <td>0.283201</td>\n",
       "      <td>0.288298</td>\n",
       "      <td>0.503087</td>\n",
       "      <td>1</td>\n",
       "    </tr>\n",
       "    <tr>\n",
       "      <th>28</th>\n",
       "      <td>-0.394209</td>\n",
       "      <td>-0.164540</td>\n",
       "      <td>0.263402</td>\n",
       "      <td>0.394709</td>\n",
       "      <td>0.329208</td>\n",
       "      <td>1</td>\n",
       "    </tr>\n",
       "    <tr>\n",
       "      <th>23</th>\n",
       "      <td>0.520496</td>\n",
       "      <td>0.189885</td>\n",
       "      <td>0.255469</td>\n",
       "      <td>0.403811</td>\n",
       "      <td>0.571548</td>\n",
       "      <td>1</td>\n",
       "    </tr>\n",
       "    <tr>\n",
       "      <th>23</th>\n",
       "      <td>0.000691</td>\n",
       "      <td>-0.274872</td>\n",
       "      <td>0.497824</td>\n",
       "      <td>-0.040010</td>\n",
       "      <td>0.551605</td>\n",
       "      <td>1</td>\n",
       "    </tr>\n",
       "    <tr>\n",
       "      <th>23</th>\n",
       "      <td>0.069257</td>\n",
       "      <td>0.072046</td>\n",
       "      <td>0.240185</td>\n",
       "      <td>0.364077</td>\n",
       "      <td>0.604830</td>\n",
       "      <td>1</td>\n",
       "    </tr>\n",
       "  </tbody>\n",
       "</table>\n",
       "</div>"
      ],
      "text/plain": [
       "                    Social drinker  Distance from Residence to Work    Weight  \\\n",
       "Reason for absence                                                              \n",
       "11                       -0.243330                         0.173077  0.283201   \n",
       "28                       -0.394209                        -0.164540  0.263402   \n",
       "23                        0.520496                         0.189885  0.255469   \n",
       "23                        0.000691                        -0.274872  0.497824   \n",
       "23                        0.069257                         0.072046  0.240185   \n",
       "\n",
       "                    Education  Body mass index  labels  \n",
       "Reason for absence                                      \n",
       "11                   0.288298         0.503087       1  \n",
       "28                   0.394709         0.329208       1  \n",
       "23                   0.403811         0.571548       1  \n",
       "23                  -0.040010         0.551605       1  \n",
       "23                   0.364077         0.604830       1  "
      ]
     },
     "execution_count": 100,
     "metadata": {},
     "output_type": "execute_result"
    }
   ],
   "source": [
    "# Examine one of the clusters in more detail\n",
    "cluster=absence_transformed[absence_transformed['labels']==1]\n",
    "cluster.head(5)"
   ]
  },
  {
   "cell_type": "code",
   "execution_count": 101,
   "metadata": {},
   "outputs": [],
   "source": [
    "#### Delete Endpoints"
   ]
  },
  {
   "cell_type": "code",
   "execution_count": 106,
   "metadata": {},
   "outputs": [],
   "source": [
    "sagemaker.Session().delete_endpoint(pca_predictor.endpoint_name)\n",
    "sagemaker.Session().dele#te_endpoint(kmeans_predictor.endpoint_name)"
   ]
  },
  {
   "cell_type": "code",
   "execution_count": null,
   "metadata": {},
   "outputs": [],
   "source": []
  }
 ],
 "metadata": {
  "kernelspec": {
   "display_name": "conda_python3",
   "language": "python",
   "name": "conda_python3"
  },
  "language_info": {
   "codemirror_mode": {
    "name": "ipython",
    "version": 3
   },
   "file_extension": ".py",
   "mimetype": "text/x-python",
   "name": "python",
   "nbconvert_exporter": "python",
   "pygments_lexer": "ipython3",
   "version": "3.6.10"
  }
 },
 "nbformat": 4,
 "nbformat_minor": 4
}
