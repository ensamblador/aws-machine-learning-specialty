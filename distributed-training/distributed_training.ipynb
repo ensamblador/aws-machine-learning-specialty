{
 "cells": [
  {
   "cell_type": "markdown",
   "metadata": {},
   "source": [
    "# Multiples Procesos por Nodo: Horovod\n",
    "\n",
    "En tensorflow permite correr varios procesos por host de la siguente forma:\n",
    "\n",
    "```python\n",
    "from sagemaker.tensorflow import TensorFlow\n",
    "tf_estimator = TensorFlow(entry_point='tf-train.py', role='SagemakerRole', \n",
    "                          train_instance_count=1, train_instance_type='ml.p2.xlarge',\n",
    "                          framework_version='1.12', py_version='py3',\n",
    "                          distributions= {\n",
    "                             'mpi':{\n",
    "                                 'enabled': True,\n",
    "                                 'processes_per_host': 2, \n",
    "                                 'custom_mpi_options': '--NCCL_DEBUG INFO'\n",
    "                             }\n",
    "                          })\n",
    "tf_estimator.fit('s3://bucket/path/to/training/data')\n",
    "```"
   ]
  },
  {
   "cell_type": "markdown",
   "metadata": {},
   "source": [
    "# Multiples Nodos\n",
    "\n",
    "## Fully Replicated: se copia toda la data a todos los nodos\n",
    "\n",
    "* Incrementa la estabilidad del model\n",
    "* Datas no tan grandes\n",
    "* Escala directamente el entrenamiento\n",
    "\n",
    "```python\n",
    "# cuando se configura el canal\n",
    "{ \n",
    "    \"ChannelName\": \"validation\",\n",
    "    \"DataSource\": {\n",
    "        \"S3DataSource\": {\n",
    "            \"S3DataType\": \"S3Prefix\",\n",
    "            \"S3Uri\": \"s3://bucket/path/to/training/data\",\n",
    "            \"S3DataDistributionType\": \"FullyReplicated\"\n",
    "        }\n",
    "    },\n",
    "    \"CompressionType\": \"None\",\n",
    "    \"RecordWrapperType\": \"None\"\n",
    "}\n",
    "\n",
    "```\n",
    "___\n",
    "## Sharded By S3 Key: se divide la data por grupos de s3 key prefix:\n",
    "\n",
    "* Data mas grande\n",
    "* Exponer parte del modelo a ejemplos especificos\n",
    "* Entrenamiento más rápido\n",
    "\n",
    "```python\n",
    "# Paso 1: Dividir la data en pequeños Keys\n",
    "# Paso 2: Crear S3 inputs\n",
    "# Paso 3: Apuntar el S3 Input al directorio de S3\n",
    "\n",
    "s3_train = s3_input(os.path.join(s3_input_path, 'train', TRAIN_DATA),\n",
    "                    distribution='ShardedByS3Key', content_type='application/jsonlines')\n",
    "\n",
    "```\n"
   ]
  },
  {
   "cell_type": "markdown",
   "metadata": {},
   "source": [
    "___\n",
    "## Parameter Server\n",
    "\n",
    "Consolida el estado de los nodos en un estado compartido. Esta forma permite los algoritmos manejados de aws hacer el entrenamiento distribuido. \n",
    "\n",
    "### Usando Parameter Server con TensorFlow \n",
    "\n",
    "#### 1. Establecer el parámetro en Tensorflow\n",
    "\n",
    "```python\n",
    "from sagemaker.tensorflow import TensorFlow\n",
    "\n",
    "tf_estimator = TensorFlow(entry_point='tf-train.py', role='SagemakerRole', \n",
    "                          train_instance_count=1, train_instance_type='ml.p2.xlarge',\n",
    "                          framework_version='1.11', py_version='py3',\n",
    "                          distributions= {'parameter_server': {'enabled': True}})\n",
    "\n",
    "tf_estimator.fit('s3://bucket/path/to/training/data')\n",
    "```\n",
    "\n",
    "#### 2. Establecer el Global Optimizer\n",
    "\n",
    "```python\n",
    "from sagemaker.tensorflow import TensorFlow\n",
    "# Configure the Training Op (\n",
    "if mode == tf.estimator.ModeKeys.TRAIN:\n",
    "    optimizer = tf.train.GradientDescendOptimizer(learning_rate = 0.001)\n",
    "    train_op = optimizer.minimize(\n",
    "        loss=loss,\n",
    "        global_step = tf.train.get_global_step())\n",
    "\n",
    "```\n"
   ]
  },
  {
   "cell_type": "markdown",
   "metadata": {},
   "source": [
    "# Incremental Retraining\n",
    "\n",
    "Se usa para tomar lo aprendido y continuar."
   ]
  },
  {
   "cell_type": "markdown",
   "metadata": {},
   "source": [
    "# Ejemplo con Tensorflow 1 y 2\n",
    "\n",
    "[tensorflow_script_mode_training_and_serving.ipynb](tensorflow_script_mode_training_and_serving.ipynb)"
   ]
  },
  {
   "cell_type": "code",
   "execution_count": null,
   "metadata": {},
   "outputs": [],
   "source": []
  }
 ],
 "metadata": {
  "kernelspec": {
   "display_name": "Python 3 (Data Science)",
   "language": "python",
   "name": "python3__SAGEMAKER_INTERNAL__arn:aws:sagemaker:us-west-2:236514542706:image/datascience-1.0"
  },
  "language_info": {
   "codemirror_mode": {
    "name": "ipython",
    "version": 3
   },
   "file_extension": ".py",
   "mimetype": "text/x-python",
   "name": "python",
   "nbconvert_exporter": "python",
   "pygments_lexer": "ipython3",
   "version": "3.7.10"
  }
 },
 "nbformat": 4,
 "nbformat_minor": 4
}
