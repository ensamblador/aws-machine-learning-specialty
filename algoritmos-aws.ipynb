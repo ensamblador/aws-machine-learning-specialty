{
 "cells": [
  {
   "cell_type": "markdown",
   "metadata": {},
   "source": [
    "#  Algoritmos Administrados por AWS y Características"
   ]
  },
  {
   "cell_type": "markdown",
   "metadata": {},
   "source": [
    "\n",
    "    \n",
    "|Nombre Algoritmo|Para qué|Distributed<br>Training| Incremental<br>Training |Hyper<br>Parameters|\n",
    "|-|-|:-:|:-:||\n",
    "|\n",
    "|[Linear Learner](https://docs.aws.amazon.com/sagemaker/latest/dg/linear-learner.html)|<li>Classification</li><li>Regression</li>| 🟢 | \n",
    "|[XGBoost](https://docs.aws.amazon.com/sagemaker/latest/dg/xgboost.html)|<li>Classification</li><li>Regression</li>| 🟢 | \n",
    "|[K-Nearest Neighbors](https://docs.aws.amazon.com/sagemaker/latest/dg/k-nearest-neighbors.html)|<li>Classification</li><li>Regression</li><li>Clustering</li>| | \n",
    "|[Factorization Machines](https://docs.aws.amazon.com/sagemaker/latest/dg/fact-machines.html)|<li>Classification</li><li>Regression</li><li>Recomendation (+KNN) </li>|🟢(recomendation) | \n",
    "|[Blazing Text](https://docs.aws.amazon.com/sagemaker/latest/dg/blazingtext.html)|<li>Word2Vect</li><li>Text Classification</li>|🟢 (no supervisado) | \n",
    "|[Latent Dirichlet Allocation](https://docs.aws.amazon.com/sagemaker/latest/dg/lda.html)|<li>Topics modeling (no supervisado<br> **no** se especifican la cantidad de topicos)</li>| | \n",
    "|[Neural Topic Model](https://docs.aws.amazon.com/sagemaker/latest/dg/ntm.html)|<li>Topics modeling (no supervisado, <br>se especifican la cantidad de topicos)</li>| | \n",
    "|[Seq2Seq](https://docs.aws.amazon.com/sagemaker/latest/dg/seq-2-seq.html)|<li>Sequence Translation</li>|🟢| \n",
    "|[Image Classification](https://docs.aws.amazon.com/sagemaker/latest/dg/image-classification.html)|<li>Image multi label classification</li>|| 🟠\n",
    "|[Object Detection](https://docs.aws.amazon.com/sagemaker/latest/dg/object-detection.html)|<li>Detección de Objetos (bounding box)</li>|| 🟠\n",
    "|[Semantic Segmentation](https://docs.aws.amazon.com/sagemaker/latest/dg/semantic-segmentation.html)|<li>Detecctión de Objetos (pixel level)</li>||\n",
    "|[Random Cut Forests](https://docs.aws.amazon.com/sagemaker/latest/dg/randomcutforest.html)|<li>Anomaly Detection</li>|🟢|\n",
    "|[IP Insights](https://docs.aws.amazon.com/sagemaker/latest/dg/ip-insights.html)|<li>Anomaly Detection (for IPv4)</li>|🟢|\n",
    "|[DeepAR](https://docs.aws.amazon.com/sagemaker/latest/dg/deepar.html)|<li>Forecast</li>|🟢|\n",
    "|[K-Means](https://docs.aws.amazon.com/sagemaker/latest/dg/k-means.html)|<li>Clustering</li>|🟢| \n",
    "|[Principal Component Analysis](https://docs.aws.amazon.com/sagemaker/latest/dg/pca.html)|<li>Dimensionality Reduction</li>|| \n",
    "|[Object2Vect](https://docs.aws.amazon.com/sagemaker/latest/dg/object2vec.html)|<li>Dimensionality Reduction</li>|| "
   ]
  },
  {
   "cell_type": "code",
   "execution_count": null,
   "metadata": {},
   "outputs": [],
   "source": []
  },
  {
   "cell_type": "code",
   "execution_count": null,
   "metadata": {},
   "outputs": [],
   "source": []
  }
 ],
 "metadata": {
  "instance_type": "ml.t3.medium",
  "kernelspec": {
   "display_name": "Python 3 (Data Science)",
   "language": "python",
   "name": "python3__SAGEMAKER_INTERNAL__arn:aws:sagemaker:us-west-2:236514542706:image/datascience-1.0"
  },
  "language_info": {
   "codemirror_mode": {
    "name": "ipython",
    "version": 3
   },
   "file_extension": ".py",
   "mimetype": "text/x-python",
   "name": "python",
   "nbconvert_exporter": "python",
   "pygments_lexer": "ipython3",
   "version": "3.7.10"
  }
 },
 "nbformat": 4,
 "nbformat_minor": 4
}
