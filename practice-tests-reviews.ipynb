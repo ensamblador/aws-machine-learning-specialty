{
 "cells": [
  {
   "cell_type": "markdown",
   "source": [
    "# Data Engineering \n",
    "| Kinesis Firehose |\n",
    "|:- |\n",
    "|La conversión a parquet es desde json, si es csv se debe usar una Lambda para convertir a json previamente.|"
   ],
   "metadata": {}
  },
  {
   "cell_type": "markdown",
   "source": [],
   "metadata": {}
  },
  {
   "cell_type": "markdown",
   "source": [
    "#  Exploratory Data Analysis\n",
    "| Notas |\n",
    "|:- |\n",
    "|Pearson Correlation coefficient para ver features altamente correlacionados (no las elimina)|\n",
    "|Data augmentation en imágenes se puede hacer con flip, cambiar la tonalidad, zoom.|\n",
    "|The Multiple Imputations by Chained Equations (MICE) algorithm is a robust, informative method of dealing with missing data in your datasets. This procedure imputes or 'fills in' the missing data in a dataset through an iterative series of predictive models. Each specified variable in the dataset is imputed in each iteration using the other variables in the dataset.|"
   ],
   "metadata": {}
  },
  {
   "cell_type": "markdown",
   "source": [
    "#  Machine Learning Implementation and Operations\n",
    "\n",
    "| Notas |\n",
    "|:- |\n",
    "|Polly tiene la posibilidad de custom lexicons y vocabularios|\n",
    "|containers deben ser nvidia-docker compatible e incluir cuda toolkit en los contenedores para aprovechar la GPU (no se deben instalar drivers) |\n",
    "\n",
    "Data Formats https://docs.aws.amazon.com/sagemaker/latest/dg/cdf-training.html\n"
   ],
   "metadata": {}
  },
  {
   "cell_type": "markdown",
   "source": [
    "#  Overfitting UnderFitting\n",
    "| Overfitting | UnderFitting\n",
    "|:- |:-\n",
    "|Modelo funciona bien en la data de train pero mal en test|Modelo No puede capturar la relacion entre los ejemplos y el target\n",
    "|Modelo memorizó la data y no generaliza datos no vistos|Modelo es muy simple\n",
    "|Feature Selection: Menos features, decrementar n-gram . Aplicar Regularización|agregar mas features especificos del dominio, más complejidad (n-gram por ejemplo)\n",
    "\n",
    "Bajo accuracy en test y train se puede deber a falta de ejemplos:\n",
    "- Aumentar los datos\n",
    "- Aumentar los pasos"
   ],
   "metadata": {}
  },
  {
   "cell_type": "markdown",
   "source": [],
   "metadata": {}
  }
 ],
 "metadata": {
  "orig_nbformat": 4,
  "language_info": {
   "name": "python"
  }
 },
 "nbformat": 4,
 "nbformat_minor": 2
}